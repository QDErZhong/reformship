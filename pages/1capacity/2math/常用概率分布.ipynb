{
 "cells": [
  {
   "cell_type": "raw",
   "metadata": {},
   "source": [
    "<head>\n",
    "<meta charset=\"UTF-8\">\n",
    "</head>\n",
    "<section  data-state=\"no-title-footer\">\n",
    "    <p>&nbsp;</p>\n",
    "    <p>&nbsp;</p>\n",
    "    <div class=\"intro_h1\"><h1 style=\"text-align:center;\">数学建模</h1></div>\n",
    "    <p>&nbsp;</p>\n",
    "    <h3 style=\"text-align:center;\">模型知识点</h3>\n",
    "    <h3 style=\"color:tomato;text-align:center;\">排队论模型-泊松分布</h3>\n",
    "    <p>&nbsp;</p>\n",
    "    <p style=\"text-align:center;\"><strong><span class=\"a\">Wang Haihua</span></strong> <span class=\"b\"></span> <span> </span></p>\n",
    "    <p style=\"font-size:48px;text-align:center;\"> &#128645; &#128651;&#x1F61C; &#128657; &#128660;</p>\n",
    "</section>"
   ]
  },
  {
   "cell_type": "markdown",
   "metadata": {
    "id": "09F9FC32D95D4367936A915084C7E7DE",
    "jupyter": {},
    "mdEditEnable": false,
    "slideshow": {
     "slide_type": "subslide"
    },
    "tags": []
   },
   "source": [
    "# 常用的概率分布"
   ]
  },
  {
   "cell_type": "markdown",
   "metadata": {
    "id": "41EA472C14244F7280B79C1749E53542",
    "jupyter": {},
    "mdEditEnable": false,
    "slideshow": {
     "slide_type": "subslide"
    },
    "tags": []
   },
   "source": [
    "## 定长分布"
   ]
  },
  {
   "cell_type": "markdown",
   "metadata": {
    "id": "41EA472C14244F7280B79C1749E53542",
    "jupyter": {},
    "mdEditEnable": false,
    "slideshow": {
     "slide_type": "subslide"
    },
    "tags": []
   },
   "source": [
    "定长分布简单来说就是，每一个顾客的服务时间都是定值。"
   ]
  },
  {
   "cell_type": "markdown",
   "metadata": {
    "id": "48148B3C4A2F48BA80C5D732B4407FFA",
    "jupyter": {},
    "mdEditEnable": false,
    "slideshow": {
     "slide_type": "subslide"
    },
    "tags": []
   },
   "source": [
    "## 均匀分布"
   ]
  },
  {
   "cell_type": "markdown",
   "metadata": {
    "id": "48148B3C4A2F48BA80C5D732B4407FFA",
    "jupyter": {},
    "mdEditEnable": false,
    "slideshow": {
     "slide_type": "subslide"
    },
    "tags": []
   },
   "source": [
    "在概率论和统计学中，均匀分布也叫矩形分布，它是对称概率分布，在相同长度间隔的分布概率是等可能的。 均匀分布由两个参数$a$和$b$定义，它们是数轴上的最小值和最大值，通常缩写为$U(a,b)$。"
   ]
  },
  {
   "cell_type": "markdown",
   "metadata": {
    "id": "48148B3C4A2F48BA80C5D732B4407FFA",
    "jupyter": {},
    "mdEditEnable": false,
    "slideshow": {
     "slide_type": "fragment"
    },
    "tags": []
   },
   "source": [
    "$$\n",
    "f(x)=\\begin{cases}\n",
    "\\dfrac{1}{b-a}, a<x<b\\\\\n",
    "0 , else\n",
    "\\end{cases}\n",
    "$$"
   ]
  },
  {
   "cell_type": "code",
   "execution_count": 1,
   "metadata": {
    "ExecuteTime": {
     "end_time": "2022-03-30T09:31:20.077634Z",
     "start_time": "2022-03-30T09:31:19.348076Z"
    },
    "id": "E49F5B0C4DED497E85E7FEFB278D4D45",
    "jupyter": {},
    "slideshow": {
     "slide_type": "subslide"
    },
    "tags": []
   },
   "outputs": [
    {
     "data": {
      "text/plain": [
       "(0.0, 1.2)"
      ]
     },
     "execution_count": 1,
     "metadata": {},
     "output_type": "execute_result"
    },
    {
     "data": {
      "image/png": "[encoded data removed]",
      "text/plain": [
       "<Figure size 432x288 with 1 Axes>"
      ]
     },
     "metadata": {
      "needs_background": "light"
     },
     "output_type": "display_data"
    }
   ],
   "source": [
    "def uniform(x,a,b):\n",
    "    if (x > a) and (x < b):\n",
    "        return 1/(b-a)\n",
    "    else:\n",
    "        return 0 \n",
    "\n",
    "import matplotlib.pyplot as plt\n",
    "import numpy as np\n",
    "plt.style.use('classic')\n",
    "%matplotlib inline\n",
    "a = 1\n",
    "b = 2\n",
    "t_list = [0.01 * i for i in range(300)]\n",
    "ft = [uniform(t,a,b) for t in  t_list]\n",
    "plt.plot(t_list, ft,linewidth = 2)\n",
    "plt.xlabel(r'$t$',fontsize = 15)\n",
    "plt.ylabel(r'$f(t)$',fontsize = 15)\n",
    "#plt.text(4, 0.6, r'$f(t)=\\lambda e^{-\\lambda t}, \\quad t>0$',fontsize = 20)\n",
    "plt.grid()\n",
    "plt.ylim([0,1.2])"
   ]
  },
  {
   "cell_type": "markdown",
   "metadata": {
    "id": "770376B384E149C28412BCF16A3472B8",
    "jupyter": {},
    "mdEditEnable": false,
    "slideshow": {
     "slide_type": "subslide"
    },
    "tags": []
   },
   "source": [
    "## 正态分布"
   ]
  },
  {
   "cell_type": "markdown",
   "metadata": {
    "id": "770376B384E149C28412BCF16A3472B8",
    "jupyter": {},
    "mdEditEnable": false,
    "slideshow": {
     "slide_type": "subslide"
    },
    "tags": []
   },
   "source": [
    "正态分布（Normal distribution），也称“常态分布”，又名高斯分布（Gaussian distribution），最早由A.棣莫弗在求二项分布的渐近公式中得到。C.F.高斯在研究测量误差时从另一个角度导出了它。P.S.拉普拉斯和高斯研究了它的性质。是一个在数学、物理及工程等领域都非常重要的概率分布，在统计学的许多方面有着重大的影响力。\n",
    "正态曲线呈钟型，两头低，中间高，左右对称因其曲线呈钟形，因此人们又经常称之为钟形曲线。"
   ]
  },
  {
   "cell_type": "markdown",
   "metadata": {
    "id": "770376B384E149C28412BCF16A3472B8",
    "jupyter": {},
    "mdEditEnable": false,
    "slideshow": {
     "slide_type": "subslide"
    },
    "tags": []
   },
   "source": [
    "$$\n",
    "f(x)=\\frac{1}{\\sqrt{2 \\pi} \\sigma} \\exp \\left(-\\frac{(x-\\mu)^{2}}{2 \\sigma^{2}}\\right)\n",
    "$$"
   ]
  },
  {
   "cell_type": "code",
   "execution_count": 2,
   "metadata": {
    "ExecuteTime": {
     "end_time": "2022-03-30T09:31:20.252167Z",
     "start_time": "2022-03-30T09:31:20.079629Z"
    },
    "id": "E6F0CF5F31674F388A7A9936311AF254",
    "jupyter": {},
    "slideshow": {
     "slide_type": "subslide"
    },
    "tags": []
   },
   "outputs": [
    {
     "data": {
      "image/png": "[encoded data removed]",
      "text/plain": [
       "<Figure size 432x288 with 1 Axes>"
      ]
     },
     "metadata": {
      "needs_background": "light"
     },
     "output_type": "display_data"
    }
   ],
   "source": [
    "mu = 6\n",
    "sigma = 1.5\n",
    "t_list = [0.01 * i for i in range(1200)]\n",
    "ft = [ 1/np.sqrt(2*np.pi)/sigma * np.exp(-(t-mu)**2/2/sigma**2)       for t in t_list]\n",
    "plt.plot(t_list, ft,linewidth = 2)\n",
    "plt.xlabel(r'$t$',fontsize = 15)\n",
    "plt.ylabel(r'$f(t)$',fontsize = 15)\n",
    "plt.grid()"
   ]
  },
  {
   "cell_type": "markdown",
   "metadata": {
    "id": "17D7C93CFE1B47EF8DF4D54553F7C0DC",
    "jupyter": {},
    "mdEditEnable": false,
    "slideshow": {
     "slide_type": "subslide"
    },
    "tags": []
   },
   "source": [
    "## 泊松分布"
   ]
  },
  {
   "cell_type": "markdown",
   "metadata": {
    "id": "17D7C93CFE1B47EF8DF4D54553F7C0DC",
    "jupyter": {},
    "mdEditEnable": false,
    "slideshow": {
     "slide_type": "subslide"
    },
    "tags": []
   },
   "source": [
    "泊松分布又叫泊松流，在排队论中成为最简单流。\n",
    "\n",
    "设$N(t)$表示在时间区间内$[t_0,t_0 + \\Delta t)$内到达的顾客数，是随机变量。\n",
    "当$N(t)$满足下列三个条件时，我们说顾客的到达符合泊松分布\n",
    "1. 平稳性：在时间区间$[t_0,t_0 + \\Delta t)$内到达的顾客数，只与时间区间长度$\\Delta t$有关而与起点$t_0$无关\n",
    "2. 无后效性：在时间区间$[t_0,t_0 + \\Delta t)$内到达的顾客数，与$t_0$以前的顾客数独立\n",
    "3. 普通性：在充分短的时间内$\\Delta t$内，到达两个或者两个以上顾客的概率极小，可以忽略不计。"
   ]
  },
  {
   "cell_type": "markdown",
   "metadata": {
    "id": "17D7C93CFE1B47EF8DF4D54553F7C0DC",
    "jupyter": {},
    "mdEditEnable": false,
    "slideshow": {
     "slide_type": "subslide"
    },
    "tags": []
   },
   "source": [
    "根据概率论的知识，满足以上三个条件的时候，可以推出在$t$时间段内有$n$个顾客到达服务系统的概率为\n",
    "\n",
    "$$\n",
    "P_{n}(t)=\\frac{(\\lambda t)^{n}}{n !} e^{-\\lambda t} \\quad n=0,1,2, \\cdots\n",
    "$$\n",
    "\n",
    "其中，$t \\geq 0$ 代表时间长度。 $\\lambda>0$为常数，表示单位时间到达的顾客数，即为到达率。"
   ]
  },
  {
   "cell_type": "markdown",
   "metadata": {
    "id": "17D7C93CFE1B47EF8DF4D54553F7C0DC",
    "jupyter": {},
    "mdEditEnable": false,
    "slideshow": {
     "slide_type": "fragment"
    },
    "tags": []
   },
   "source": [
    "由于泊松流与实际生活中排队系统到达情况的相似性，目前排队论中的理论推导基本都是基于泊松流进行推导的。本课程的后续推导也将基于最简单流（泊松流）。"
   ]
  },
  {
   "cell_type": "markdown",
   "metadata": {
    "id": "202BFB41C9264319A9901A0D51127E3C",
    "jupyter": {},
    "mdEditEnable": false,
    "slideshow": {
     "slide_type": "subslide"
    },
    "tags": []
   },
   "source": [
    "## 负指数分布"
   ]
  },
  {
   "cell_type": "markdown",
   "metadata": {
    "id": "202BFB41C9264319A9901A0D51127E3C",
    "jupyter": {},
    "mdEditEnable": false,
    "slideshow": {
     "slide_type": "subslide"
    },
    "tags": []
   },
   "source": [
    "在概率论中，当顾客的到达服从泊松分布时，顾客到达的间隔时间必定服从负指数分布，负指数分布的概率密度函数为\n",
    "\n",
    "$$\n",
    "f(t)=\\left\\{\\begin{array}{cc}\n",
    "{\\lambda e^{-\\lambda t},} & {t \\geq 0} \\\\\n",
    "{0,} & {t<0}\n",
    "\\end{array}\\right.\n",
    "$$\n",
    "\n",
    "其中，$\\lambda>0$与泊松分布一样，表示单位时间到达的顾客数，即为到达率。"
   ]
  },
  {
   "cell_type": "code",
   "execution_count": 3,
   "metadata": {
    "ExecuteTime": {
     "end_time": "2022-03-30T09:31:20.456923Z",
     "start_time": "2022-03-30T09:31:20.256157Z"
    },
    "id": "281A4C468B064DB1BB4A15563AE1FF31",
    "jupyter": {},
    "slideshow": {
     "slide_type": "subslide"
    },
    "tags": []
   },
   "outputs": [
    {
     "data": {
      "image/png": "[encoded data removed]",
      "text/plain": [
       "<Figure size 432x288 with 1 Axes>"
      ]
     },
     "metadata": {
      "needs_background": "light"
     },
     "output_type": "display_data"
    }
   ],
   "source": [
    "Lambda = 1\n",
    "t_list = [0.01 * i for i in range(1000)]\n",
    "ft = [Lambda * np.exp(-Lambda * t) for t in t_list]\n",
    "plt.plot(t_list, ft,linewidth = 2)\n",
    "plt.xlabel(r'$t$',fontsize = 15)\n",
    "plt.ylabel(r'$f(t)$',fontsize = 15)\n",
    "plt.text(4, 0.6, r'$f(t)=\\lambda e^{-\\lambda t}, \\quad t>0$',fontsize = 20)\n",
    "plt.grid()"
   ]
  },
  {
   "cell_type": "markdown",
   "metadata": {
    "id": "2BCCA8BC7AF1438D818B73B91EB06668",
    "jupyter": {},
    "mdEditEnable": false,
    "slideshow": {
     "slide_type": "subslide"
    },
    "tags": []
   },
   "source": [
    "我们可以这么理解：**泊松分布和负指数分布，是从两个角度，对同一个现象进行的描述。**\n",
    "\n",
    "- 泊松分布关注的是单位时间内到达（或者离去）的顾客个数\n",
    "- 负指数分布关注的是顾客到达（或者离去）的时间间隔"
   ]
  },
  {
   "cell_type": "markdown",
   "metadata": {
    "id": "675B952E65EB46B08E773A5BF4E7BD0F",
    "jupyter": {},
    "mdEditEnable": false,
    "slideshow": {
     "slide_type": "subslide"
    },
    "tags": []
   },
   "source": [
    "## 爱尔朗分布"
   ]
  },
  {
   "cell_type": "markdown",
   "metadata": {
    "id": "675B952E65EB46B08E773A5BF4E7BD0F",
    "jupyter": {},
    "mdEditEnable": false,
    "slideshow": {
     "slide_type": "subslide"
    },
    "tags": []
   },
   "source": [
    "设$v_1,v_2,\\cdots, v_k$是$k$个相互独立的随机变量，服从相同参数$k\\lambda$的负指数分布，那么其求和后\n",
    "\n",
    "$$\n",
    "T = v_1 + v_2 + \\cdots + v_k \n",
    "$$\n",
    "\n",
    "的概率分布为\n",
    "\n",
    "$$\n",
    "f_{k}(t)=\\frac{k \\lambda(k \\lambda t)^{k-1}}{(k-1) !} e^{-k \\lambda t} \\quad, \\quad t \\geq 0, \\quad k \\geq 0, \\quad \\lambda \\geq 0\n",
    "$$\n",
    "\n",
    "上面的分布称为$k$阶爱尔朗分布。"
   ]
  },
  {
   "cell_type": "code",
   "execution_count": 4,
   "metadata": {
    "ExecuteTime": {
     "end_time": "2022-03-30T09:31:20.726431Z",
     "start_time": "2022-03-30T09:31:20.457925Z"
    },
    "id": "18F30621803245B5828EED2EB8453483",
    "jupyter": {},
    "slideshow": {
     "slide_type": "subslide"
    },
    "tags": []
   },
   "outputs": [
    {
     "data": {
      "text/plain": [
       "Text(0, 0.5, '$f_k(t)$')"
      ]
     },
     "execution_count": 4,
     "metadata": {},
     "output_type": "execute_result"
    },
    {
     "data": {
      "image/png": "[encoded data removed]",
      "text/plain": [
       "<Figure size 432x288 with 1 Axes>"
      ]
     },
     "metadata": {
      "needs_background": "light"
     },
     "output_type": "display_data"
    }
   ],
   "source": [
    "import numpy as np\n",
    "\n",
    "import matplotlib.pyplot as plt \n",
    "plt.style.use('classic')\n",
    "%matplotlib inline \n",
    "def Erlang(t,Lambda,k):\n",
    "    import numpy as np\n",
    "    num = k*Lambda*(k*Lambda*t)**(k-1)* np.exp(-(k*Lambda*t))\n",
    "    den = np.math.factorial(k-1) \n",
    "    return  num/den\n",
    "\n",
    "Lambda = 2\n",
    "for k in range(1,20,4):\n",
    "    t_list = [0.01 * t for t in range(100)]\n",
    "    f_list = [Erlang(t,Lambda,k) for t in t_list]\n",
    "    plt.plot(t_list,f_list,label = 'k=' +  str(k))\n",
    "    plt.legend()\n",
    "plt.xlabel(r'$t$',fontsize = 15)\n",
    "plt.ylabel(r\"$f_k(t)$\",fontsize = 15)"
   ]
  },
  {
   "cell_type": "markdown",
   "metadata": {
    "id": "0952E54A6FF641F690375B35B08419EF",
    "jupyter": {},
    "mdEditEnable": false,
    "slideshow": {
     "slide_type": "subslide"
    },
    "tags": []
   },
   "source": [
    "- 当$k=1$时，爱尔朗分布就是指数分布\n",
    "- $k$增大时，图形逐渐变为对称的\n",
    "- $k \\geq 30$时，近似于正态分布"
   ]
  },
  {
   "cell_type": "markdown",
   "metadata": {
    "id": "818B6A4759A34FDA91E49DD598D7BC2D",
    "jupyter": {},
    "mdEditEnable": false,
    "slideshow": {
     "slide_type": "fragment"
    },
    "tags": []
   },
   "source": [
    "我们可以根据原始资料，由顾客到达的规律，对$\\lambda$的经验分布进行估计。\n",
    "\n",
    "在后续讨论中，我们主要讨论$\\lambda$的概率分布为**负指数分布**的情况。"
   ]
  },
  {
   "cell_type": "raw",
   "metadata": {
    "slideshow": {
     "slide_type": "subslide"
    }
   },
   "source": [
    "<image>\n",
    "</section>\n",
    "<section data-background=\"#0093C9\" data-state=\"no-title-footer\">\n",
    "  <div class=\"divider_h1\">\n",
    "    <h1>Questions???</h1>\n",
    "  </div>\n",
    "</section>\n",
    "</image>"
   ]
  }
 ],
 "metadata": {
  "celltoolbar": "幻灯片",
  "jupytext": {
   "text_representation": {
    "extension": ".md",
    "format_name": "myst",
    "format_version": 0.12,
    "jupytext_version": "1.6.0"
   }
  },
  "kernelspec": {
   "display_name": "Python 3",
   "language": "python",
   "name": "python3"
  },
  "language_info": {
   "codemirror_mode": {
    "name": "ipython",
    "version": 3
   },
   "file_extension": ".py",
   "mimetype": "text/x-python",
   "name": "python",
   "nbconvert_exporter": "python",
   "pygments_lexer": "ipython3",
   "version": "3.8.5"
  },
  "source_map": [
   14,
   18,
   127,
   131,
   161,
   178,
   188,
   192,
   218,
   237,
   277,
   294,
   318,
   322,
   326,
   332,
   345,
   367,
   390,
   411,
   448,
   454,
   466,
   496,
   508,
   526,
   548,
   564,
   582,
   589,
   607,
   636,
   642,
   649,
   653,
   657,
   712,
   743,
   756,
   779,
   800,
   812,
   842,
   846,
   850,
   855,
   871,
   894,
   924,
   933,
   967,
   995,
   999,
   1004,
   1016,
   1030,
   1081,
   1085
  ],
  "toc": {
   "base_numbering": 1,
   "nav_menu": {},
   "number_sections": true,
   "sideBar": true,
   "skip_h1_title": false,
   "title_cell": "Table of Contents",
   "title_sidebar": "Contents",
   "toc_cell": false,
   "toc_position": {
    "height": "calc(100% - 180px)",
    "left": "10px",
    "top": "150px",
    "width": "242.6px"
   },
   "toc_section_display": true,
   "toc_window_display": true
  },
  "varInspector": {
   "cols": {
    "lenName": 16,
    "lenType": 16,
    "lenVar": 40
   },
   "kernels_config": {
    "python": {
     "delete_cmd_postfix": "",
     "delete_cmd_prefix": "del ",
     "library": "var_list.py",
     "varRefreshCmd": "print(var_dic_list())"
    },
    "r": {
     "delete_cmd_postfix": ") ",
     "delete_cmd_prefix": "rm(",
     "library": "var_list.r",
     "varRefreshCmd": "cat(var_dic_list()) "
    }
   },
   "types_to_exclude": [
    "module",
    "function",
    "builtin_function_or_method",
    "instance",
    "_Feature"
   ],
   "window_display": false
  }
 },
 "nbformat": 4,
 "nbformat_minor": 4
}
