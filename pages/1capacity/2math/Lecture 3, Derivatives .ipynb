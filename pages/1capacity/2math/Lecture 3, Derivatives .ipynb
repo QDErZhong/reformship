{
 "cells": [
  {
   "cell_type": "raw",
   "metadata": {
    "slideshow": {
     "slide_type": "slide"
    }
   },
   "source": [
    "<head>\n",
    "<meta charset=\"UTF-8\">\n",
    "</head>\n",
    "<section  data-state=\"no-title-footer\">\n",
    "    <p>&nbsp;</p>\n",
    "    <p>&nbsp;</p>\n",
    "    <div class=\"intro_h1\"><h1 style=\"text-align:center;\">数学建模</h1></div>\n",
    "    <p>&nbsp;</p>\n",
    "    <h3 style=\"text-align:center;\">数学知识点</h3>\n",
    "    <h3 style=\"color:tomato;text-align:center;\">数学基础-微分</h3>\n",
    "    <p>&nbsp;</p>\n",
    "    <p style=\"text-align:center;\"><strong><span class=\"a\">Wang Haihua</span></strong> <span class=\"b\"></span> <span> </span></p>\n",
    "    <p style=\"font-size:48px;text-align:center;\"> &#128645; &#128651;&#x1F61C; &#128657; &#128660;</p>\n",
    "</section>"
   ]
  },
  {
   "cell_type": "code",
   "execution_count": 1,
   "metadata": {
    "ExecuteTime": {
     "end_time": "2022-04-02T15:35:09.478172Z",
     "start_time": "2022-04-02T15:35:08.869916Z"
    },
    "slideshow": {
     "slide_type": "subslide"
    }
   },
   "outputs": [],
   "source": [
    "import matplotlib.pyplot as plt\n",
    "import numpy as np"
   ]
  },
  {
   "cell_type": "markdown",
   "metadata": {
    "slideshow": {
     "slide_type": "subslide"
    }
   },
   "source": [
    "In this lecture we will introduce the concept of derivative and introduce the basic rules of differentiation. the word differentiation comes from the word difference, meaning subtraction. The finite difference of a function $f(x)$ at a point $x$ given a step size of $\\Delta x$ is simply the difference between the values of the function at those points:\n",
    "\n",
    "$$\n",
    "\\Delta f(x) = f(x+\\Delta x) - f(x)\n",
    "$$\n",
    "\n",
    "In other words, the finite difference tels us how much the function changes when we move the $x$ coordinate by $\\Delta x$:\n",
    "\n",
    "$$\n",
    "f(x+\\Delta x) = f(x) + \\Delta f(x)\n",
    "$$\n",
    "\n",
    "Using this finite difference, we can cumpute the rate of change of the function by deviding the difference in its values by the difference in the $x$ coordinate:\n",
    "\n",
    "$$\n",
    "\\dfrac{\\Delta f(x)}{\\Delta x} = \\dfrac{f(x+\\Delta x) - f(x)}{\\Delta x}\n",
    "$$\n",
    "\n",
    "This rate of change tels us huw fast the value of the function proportionally to the change in the input. If the rate of change is positive, the value of the function increases while, if it is negative, the value of the function decreases."
   ]
  },
  {
   "cell_type": "markdown",
   "metadata": {
    "slideshow": {
     "slide_type": "subslide"
    }
   },
   "source": [
    "<img src=\"https://www.math.hmc.edu/calculus/tutorials/limit_definition/gif/figure1.gif\" alt=\"drawing\" width=\"400\"/>    "
   ]
  },
  {
   "cell_type": "markdown",
   "metadata": {
    "slideshow": {
     "slide_type": "subslide"
    }
   },
   "source": [
    "The concept of rate of change is commonly used in elementary physics. Consider a car moving in a highway. The position of the car at time $t_0$ is $q(t_0)$ while its position at time $t_0 + \\Delta t$ is $q(t_0 + \\delta t)$. The velocity of the car is defined as the ratio between space difference and time difference:\n",
    "\n",
    "$$\n",
    "v = \\dfrac{q(t_0 + \\Delta t) - q(t_0)}{t_0 + \\Delta t - t_0} = \\dfrac{\\Delta q}{\\Delta t}\n",
    "$$\n",
    "\n",
    "You can see that this is the finite difference of the position function $q(t)$ with respect to the time step $\\Delta t$.\n",
    "\n",
    "This calculation assumes that the car is traveling at a constant speed. This is of course just a approximation as the speed of the car chages. For example, the car will slow down on parts of the highway where the traffic is higher.\n",
    "However, if the time step $\\Delta t$ is very small this approximation should become better and better as the speed cannot change too much in a very small amount of time."
   ]
  },
  {
   "cell_type": "markdown",
   "metadata": {
    "slideshow": {
     "slide_type": "slide"
    }
   },
   "source": [
    "### Derivative as the limit of discrete rate of change\n",
    "\n",
    "The physical intuition concerning velocities suggest a possible definition for instantaneous rate of change. We define the instantaneous rate of change of the function as the limit of the discrete rate of change for smaller and smaller steps:\n",
    "\n",
    "$$\n",
    "\\dfrac{d f(x)}{d x} = \\displaystyle\\lim_{\\Delta x \\rightarrow 0} \\dfrac{\\Delta f(x)}{\\Delta x} = \\displaystyle\\lim_{\\Delta x \\rightarrow 0} \\dfrac{f(x+\\Delta x) - f(x)}{\\Delta x}\n",
    "$$\n",
    "\n",
    "This limit is in a $\\frac{0}{0}$ indeterminate form as both $\\Delta t$ and $\\Delta f(x)$ tend to zero. However, this limit often exists and it is a good definition for the instantaneous rate of change.\n",
    "\n",
    "We call the function $\\frac{d f(x)}{d x}$ as the derivative of $f(x)$. The derivative function tells us the instantaneous rate of change for each value of $x$."
   ]
  },
  {
   "cell_type": "markdown",
   "metadata": {
    "slideshow": {
     "slide_type": "subslide"
    }
   },
   "source": [
    "### Derivative in geometry: Slope of the tangent line\n",
    "\n",
    "The derivative function has a simple geometrical interpretation. if we have a function $f(x)$ and two pointx $x_0$ and $x_0 + \\Delta x$, then there is a stright line intersecting with the function at Cartesian coordinates $(x_0,f(x_0))$ and $(x_0 + \\Delta x,f(x_0 + \\Delta x))$.\n",
    "The slope of this straight line is the discrete rate of change of the function. If $\\Delta x$ becomes smaller and smaller, then these two points will get closer and closer to each other. At the limit of $\\Delta x$ going to infinity the graph of the function $f(x)$ and this straght line will touch (locally) in a single point $x_0$. This limit line is called the tangent line of the curve around $x_0$ and its slope is the derivative $\\frac{df(x_0)}{dx}$.\n",
    "\n",
    "<img src=\"https://i.stack.imgur.com/5ezQF.png\" alt=\"drawing\" width=\"400\"/> "
   ]
  },
  {
   "cell_type": "markdown",
   "metadata": {
    "slideshow": {
     "slide_type": "subslide"
    }
   },
   "source": [
    "### Derivative as best local linear approximation\n",
    "\n",
    "Another way of interpreting the derivative of a function $f(x)$ at a point $x_0$ is as the angular coefficient of the best linear approximation of the function around the point.\n",
    "\n",
    "Given a function $f(x)$ we want to find a linear function $l(x)$ such that \n",
    "\n",
    "$f(x) \\approx l(x)$\n",
    "\n",
    "around $x_0$. Note that $f(x)$ and $l(x)$ only need to be similar around $x_0$ and can get very different when we move far away from this point.\n",
    "\n",
    "In order to solve this problem, let's consider a simpler problem. How can we approximate $f(x)$ near $x_0$ using a constant function? The answer is clearly to use the value of the function at that point as the constant:\n",
    "\n",
    "$f(x) \\approx f(x_0)$\n",
    "\n",
    "around $x_0$. This constant approximation is visualized in the next figure:"
   ]
  },
  {
   "cell_type": "code",
   "execution_count": 2,
   "metadata": {
    "ExecuteTime": {
     "end_time": "2022-04-02T15:35:09.781351Z",
     "start_time": "2022-04-02T15:35:09.480118Z"
    },
    "slideshow": {
     "slide_type": "subslide"
    }
   },
   "outputs": [
    {
     "data": {
      "text/plain": [
       "<matplotlib.legend.Legend at 0x1cae13a4880>"
      ]
     },
     "execution_count": 2,
     "metadata": {},
     "output_type": "execute_result"
    }
   ],
   "source": [
    "f = lambda x: x**2\n",
    "df = lambda x: 2*x\n",
    "fl = lambda x, x0: f(x0) + df(x0)*(x - x0)\n",
    "\n",
    "x_range = np.linspace(0,1.5, 100)\n",
    "x0 = 0.7\n",
    "\n",
    "plt.axvline(x0, label=\"x_0\", ls = \"--\", c=\"k\")\n",
    "plt.plot(x_range, f(x_range), label = \"f(x)\", c = \"k\")\n",
    "plt.axhline(f(x0), label = \"Best constant approximation around x_0\", c = \"r\")\n",
    "plt.legend(loc=\"upper left\")"
   ]
  },
  {
   "cell_type": "markdown",
   "metadata": {
    "slideshow": {
     "slide_type": "subslide"
    }
   },
   "source": [
    "Let's now consider our original problem: finding the best linear approximation around $x_0$. This linear function should of course have the value $f(x_0)$ at $x_0$ in order to be at least as good as the constant approximation. Therefore, it will have the following form:\n",
    "\n",
    "$$\n",
    "l(x) = f(x_0) + b (x - x_0)\n",
    "$$\n",
    "\n",
    "in fact:\n",
    "\n",
    "$$\n",
    "l(x_0) = f(x_0) + b (x_0 - x_0) = f(x_0)\n",
    "$$\n",
    "\n",
    "as we wanted.\n",
    "\n",
    "What is the angular coefficient $b$ of the line? It is geometricly clear that this best linear approximation should be the tangent line of $f(x)$ at $x_0$. Therefore the slope $b$ should be the derivative of $f(x)$ at $x_0$.\n",
    "\n",
    "we can finally write down our approximation:\n",
    "\n",
    "$$\n",
    "f(x) \\approx f(x_0) + \\dfrac{df(x_0)}{dx} (x - x_0)\n",
    "$$"
   ]
  },
  {
   "cell_type": "code",
   "execution_count": 3,
   "metadata": {
    "ExecuteTime": {
     "end_time": "2022-04-02T15:35:09.860744Z",
     "start_time": "2022-04-02T15:35:09.785301Z"
    },
    "slideshow": {
     "slide_type": "subslide"
    }
   },
   "outputs": [
    {
     "data": {
      "text/plain": [
       "<matplotlib.legend.Legend at 0x1cae1aedf10>"
      ]
     },
     "execution_count": 3,
     "metadata": {},
     "output_type": "execute_result"
    }
   ],
   "source": [
    "plt.axvline(x0, label=\"x_0\", ls = \"--\", c=\"k\")\n",
    "plt.plot(x_range, f(x_range), label = \"f(x)\", c = \"k\")\n",
    "plt.axhline(f(x0), label = \"Best constant approximation around x_0\", c = \"r\")\n",
    "plt.plot(x_range, fl(x_range,x0), label = \"Best linear approximation around x_0\")\n",
    "plt.legend(loc=\"upper left\")"
   ]
  },
  {
   "cell_type": "markdown",
   "metadata": {
    "slideshow": {
     "slide_type": "slide"
    }
   },
   "source": [
    "## Derivatives of important functions\n",
    "\n",
    "We can now derive formulas for the derivative of some simple functions. These formulas will be the elementary building blocks that we will use for taking derivatives of more complex functions, it is therefore important that you memorize all of them."
   ]
  },
  {
   "cell_type": "markdown",
   "metadata": {
    "slideshow": {
     "slide_type": "subslide"
    }
   },
   "source": [
    "### Constant functions\n",
    "\n",
    "$$\n",
    "f(x) = c\n",
    "$$\n",
    "\n",
    "$$\n",
    "\\dfrac{df}{dx} = 0\n",
    "$$"
   ]
  },
  {
   "cell_type": "markdown",
   "metadata": {
    "slideshow": {
     "slide_type": "subslide"
    }
   },
   "source": [
    "#### Proof\n",
    "$$\n",
    "\\displaystyle\\lim_{\\Delta x \\rightarrow 0} \\dfrac{c - c}{\\Delta x} = \\displaystyle\\lim_{\\Delta x \\rightarrow 0} 0 = 0\n",
    "$$"
   ]
  },
  {
   "cell_type": "markdown",
   "metadata": {
    "slideshow": {
     "slide_type": "subslide"
    }
   },
   "source": [
    "### Linear functions\n",
    "$$\n",
    "f(x) = c + b x\n",
    "$$\n",
    "\n",
    "$$\n",
    "\\dfrac{df}{dx} = b\n",
    "$$\n",
    "\n",
    "#### Proof\n",
    "$$\n",
    "\\displaystyle\\lim_{\\Delta x \\rightarrow 0} \\dfrac{(c + b(x + \\Delta x)) - (c + b x)}{\\Delta x} = \\displaystyle\\lim_{\\Delta x \\rightarrow 0} \\dfrac{b\\Delta x}{\\Delta x} = b\n",
    "$$"
   ]
  },
  {
   "cell_type": "markdown",
   "metadata": {
    "slideshow": {
     "slide_type": "subslide"
    }
   },
   "source": [
    "### Square function\n",
    "\n",
    "$$\n",
    "f(x) = x^2\n",
    "$$\n",
    "\n",
    "$$\n",
    "\\dfrac{df}{dx} = 2x\n",
    "$$\n",
    "\n",
    "#### Proof\n",
    "$$\n",
    "\\displaystyle\\lim_{\\Delta x \\rightarrow 0} \\dfrac{(x + \\Delta x)^2 - x^2}{\\Delta x} = \\displaystyle\\lim_{\\Delta x \\rightarrow 0} \\dfrac{x^2 - 2x \\Delta x + (\\Delta x)^2 - x^2}{\\Delta x} = \\displaystyle\\lim_{\\Delta x \\rightarrow 0} 2x \\dfrac{\\Delta x}{\\Delta x} + \\displaystyle\\lim_{\\Delta x \\rightarrow 0} \\dfrac{(\\Delta x)^2}{\\Delta x} = 2x + 0 = 2x\n",
    "$$"
   ]
  },
  {
   "cell_type": "markdown",
   "metadata": {
    "slideshow": {
     "slide_type": "subslide"
    }
   },
   "source": [
    "### Power function\n",
    "\n",
    "$$\n",
    "f(x) = x^p\n",
    "$$\n",
    "\n",
    "$$\n",
    "\\dfrac{df}{dx} = p x^{p-1}\n",
    "$$"
   ]
  },
  {
   "cell_type": "markdown",
   "metadata": {
    "slideshow": {
     "slide_type": "subslide"
    }
   },
   "source": [
    "#### Bonus exercise\n",
    "Prove this formula. \n",
    "\n",
    "Hint: you need to use the famous binomial theorem:\n",
    "\n",
    "$$\n",
    "(x+\\Delta x)^p = \\displaystyle\\sum_{j=0}^p \\displaystyle\\binom{p}{j} x^j (\\Delta x)^{p - j}\n",
    "$$"
   ]
  },
  {
   "cell_type": "markdown",
   "metadata": {
    "slideshow": {
     "slide_type": "subslide"
    }
   },
   "source": [
    "### Exponential function\n",
    "\n",
    "$$\n",
    "f(x) = \\mathrm{e}^x\n",
    "$$\n",
    "\n",
    "$$\n",
    "\\dfrac{df}{dx} = \\mathrm{e}^x\n",
    "$$"
   ]
  },
  {
   "cell_type": "markdown",
   "metadata": {
    "slideshow": {
     "slide_type": "subslide"
    }
   },
   "source": [
    "#### Proof\n",
    "$$\n",
    "\\dfrac{df}{dx} = \\displaystyle\\lim_{\\Delta x \\rightarrow 0} \\dfrac{\\mathrm{e}^{(x + \\Delta x)} - \\mathrm{e}^x}{\\Delta x}  \n",
    "$$\n",
    "We can use the most important property of the exponential:\n",
    "$$\n",
    "\\mathrm{e}^{x+\\Delta x} = \\mathrm{e}^x \\mathrm{e}^{\\Delta x}\n",
    "$$\n",
    "We get:\n",
    "$$\n",
    "\\dfrac{df}{dx} = \\displaystyle\\lim_{\\Delta x \\rightarrow 0} \\dfrac{\\mathrm{e}^x (\\mathrm{e}^{\\Delta x} - 1)}{\\Delta x}  "
   ]
  },
  {
   "cell_type": "markdown",
   "metadata": {
    "slideshow": {
     "slide_type": "slide"
    }
   },
   "source": [
    "$$\n",
    "We can now use the known asymptotic relation of the exponential near zero:\n",
    "$$\n",
    "e^{\\Delta x} - 1 \\sim \\Delta x \n",
    "$$\n",
    "Therefore, for $\\Delta x \\rightarrow 0$:\n",
    "$$\n",
    "\\dfrac{\\mathrm{e}^x (\\mathrm{e}^{\\Delta x} - 1)}{\\Delta x} \\sim \\dfrac{\\mathrm{e}^x \\Delta x}{\\Delta x}\n",
    "$$\n",
    "now the limit is trivial:\n",
    "$$\n",
    "\\dfrac{df}{dx} = \\displaystyle\\lim_{\\Delta x \\rightarrow 0} \\dfrac{\\mathrm{e}^x \\Delta x}{\\Delta x} = \\mathrm{e}^x\n",
    "$$"
   ]
  },
  {
   "cell_type": "markdown",
   "metadata": {
    "slideshow": {
     "slide_type": "subslide"
    }
   },
   "source": [
    "### Sine function\n",
    "\n",
    "$$\n",
    "f(x) = \\sin(x)\n",
    "$$\n",
    "\n",
    "$$\n",
    "\\dfrac{df}{dx} = \\cos(x)\n",
    "$$"
   ]
  },
  {
   "cell_type": "markdown",
   "metadata": {
    "slideshow": {
     "slide_type": "subslide"
    }
   },
   "source": [
    "#### Bonus exercise\n",
    "Prove this formula.\n",
    "\n",
    "Hint: you need to use the sum angle trigonometric rule:\n",
    "\n",
    "$$\n",
    "\\sin(x + \\Delta x) = \\sin(x) \\cos(\\Delta x) + \\cos(x) \\sin(\\Delta x)\n",
    "$$\n",
    "\n",
    "and the asymptotic relations:\n",
    "\n",
    "$$\n",
    "\\sin(\\Delta x) \\sim \\Delta x\n",
    "$$\n",
    "\n",
    "and\n",
    "\n",
    "$$\n",
    "\\cos(\\Delta x) \\sim 1 + \\dfrac{(\\Delta x)^2}{2}\n",
    "$$"
   ]
  },
  {
   "cell_type": "markdown",
   "metadata": {
    "slideshow": {
     "slide_type": "subslide"
    }
   },
   "source": [
    "### Cosine function\n",
    "\n",
    "$$\n",
    "f(x) = \\cos(x)\n",
    "$$\n",
    "\n",
    "$$\n",
    "\\dfrac{df}{dx} = -\\sin(x)\n",
    "$$\n",
    "\n",
    "#### Bonus exercise\n",
    "Prove this formula."
   ]
  },
  {
   "cell_type": "markdown",
   "metadata": {
    "slideshow": {
     "slide_type": "subslide"
    }
   },
   "source": [
    "### Exercise (Very important)\n",
    "#### 3.1\n",
    "\n",
    "**a)**\n",
    "Prove that the derivative of $f(x) = \\dfrac{1}{x}$ is:\n",
    "    \n",
    "$$\n",
    "\\dfrac{df}{dx} = -\\dfrac{1}{x^2}\n",
    "$$\n",
    "\n",
    "Hint: It just needs some algebra and some simple limits."
   ]
  },
  {
   "cell_type": "markdown",
   "metadata": {
    "slideshow": {
     "slide_type": "subslide"
    }
   },
   "source": [
    "**b)**\n",
    "Prove that the derivative of the sum of two functions is equal to the sum of their derivatives:\n",
    "\n",
    "$$\n",
    "\\dfrac{d (f(x) + g(x))}{dx} = \\dfrac{d f(x)}{dx} + \\dfrac{d g(x)}{dx}\n",
    "$$\n",
    "\n",
    "Hint: Start from the definition. Rearrange the terms. use the fact that the limit of the sum is the sum of the limits:\n",
    "\n",
    "$$\n",
    "\\displaystyle\\lim_{\\Delta x \\rightarrow 0} \\left( \\dfrac{f(x + \\Delta x) - f(x)}{\\Delta x} + \\dfrac{g(x + \\Delta x) - g(x)}{\\Delta x} \\right)\\\\[1cm]\n",
    "= \\displaystyle\\lim_{\\Delta x \\rightarrow 0} \\left( \\dfrac{f(x + \\Delta x) - f(x)}{\\Delta x} \\right) + \\lim_{\\Delta x \\rightarrow 0} \\left(\\dfrac{g(x + \\Delta x) - g(x)}{\\Delta x} \\right)\n",
    "$$"
   ]
  },
  {
   "cell_type": "markdown",
   "metadata": {
    "slideshow": {
     "slide_type": "subslide"
    }
   },
   "source": [
    "**c)**\n",
    "Prove that you can take a constant out of the derivative:\n",
    "\n",
    "$$\n",
    "\\dfrac{d (c f(x))}{dx} = c \\dfrac{d f(x)}{dx}\n",
    "$$\n",
    "\n",
    "**d)** Use the previous two rules to compute the derivative of the following functions:"
   ]
  },
  {
   "cell_type": "markdown",
   "metadata": {
    "slideshow": {
     "slide_type": "subslide"
    }
   },
   "source": [
    "#### 3.2\n",
    "\n",
    "**a)** $f(x) = 2 x^3 + x $\n",
    "\n",
    "**b)** $f(x) = 3 \\cos(x) + x^2$\n",
    "\n",
    "**c)** $f(x) = 6 \\sin(x) + \\cos(x) - \\mathrm{e}^x$\n",
    "\n",
    "**d)** $f(x) = x^4 - 2 x^2 + x + 4$"
   ]
  },
  {
   "cell_type": "markdown",
   "metadata": {
    "slideshow": {
     "slide_type": "slide"
    }
   },
   "source": [
    "## The product rule of differentiation\n",
    "\n",
    "Now that we know how to differentiate (i.e. take derivative of) simple functions, we need to derive rules for differentiating more complex functions obtained by combining those simple ones. \n",
    "\n",
    "We already saw the sum rule in the previous exercise:\n",
    "\n",
    "$$\n",
    "\\dfrac{d (f(x) + g(x))}{dx} = \\dfrac{d f(x)}{dx} + \\dfrac{d g(x)}{dx}\n",
    "$$\n",
    "\n",
    "Another important rule of differentiation is the product rule. This rule tells us how to take the derivative of a product of two functions when we know how to take their individual derivatives.\n",
    "\n",
    "$$\n",
    "\\dfrac{d \\left(f(x) g(x)\\right)}{d x} = f(x) \\dfrac{d g(x)}{d x} + g(x) \\dfrac{d f(x)}{d x}\n",
    "$$"
   ]
  },
  {
   "cell_type": "markdown",
   "metadata": {
    "slideshow": {
     "slide_type": "slide"
    }
   },
   "source": [
    "### Proof (This is a very important proof that I could ask in the exam)\n",
    "We start the proof by writing down the definition of the derivative:\n",
    "\n",
    "$$\n",
    "\\dfrac{d \\left(f(x) g(x)\\right)}{d x} = \\displaystyle\\lim_{\\Delta x \\rightarrow 0} \\dfrac{f(x+\\Delta x)g(x + \\Delta x) - f(x) g(x)}{\\Delta x}\n",
    "$$\n",
    "\n",
    "We can now use the definition of the finite difference:\n",
    "\n",
    "$$\n",
    "f(x + \\Delta x) = f(x) + \\Delta f(x)\n",
    "$$"
   ]
  },
  {
   "cell_type": "markdown",
   "metadata": {
    "slideshow": {
     "slide_type": "slide"
    }
   },
   "source": [
    "Using this formula we can rearrange the numerator:\n",
    "\n",
    "$$\n",
    "\\displaystyle\\lim_{\\Delta x \\rightarrow 0} \\dfrac{\\left(f(x) + \\Delta f(x)\\right)\\left(g(x) + \\Delta g(x)\\right) - f(x) g(x)}{\\Delta x} = \\displaystyle\\lim_{\\Delta x \\rightarrow 0} \\left(f(x) \\dfrac{\\Delta g(x)}{\\Delta x} + g(x) \\dfrac{\\Delta f(x)}{\\Delta x} + \\Delta f(x) \\dfrac{\\Delta g(x)}{\\Delta x} \\right)\n",
    "$$\n",
    "\n",
    "The most important part of the prove is the realization that the limit of the third term is equal to zero:\n",
    "\n",
    "$$\n",
    "\\displaystyle\\lim_{\\Delta x \\rightarrow 0} \\Delta f(x) \\dfrac{\\Delta g(x)}{\\Delta x} = 0\n",
    "$$"
   ]
  },
  {
   "cell_type": "markdown",
   "metadata": {
    "slideshow": {
     "slide_type": "slide"
    }
   },
   "source": [
    "since $\\dfrac{\\Delta g(x)}{\\Delta x}$ tends to $\\dfrac{d g(x)}{d x}$ and it is multiplied by $\\Delta f(x)$ which obviously tend to zero.\n",
    "Therefore:\n",
    "\n",
    "$$\n",
    "\\begin{aligned}\n",
    "\\dfrac{d \\left(f(x) g(x)\\right)}{d x} &= \\displaystyle\\lim_{\\Delta x \\rightarrow 0} \\left(f(x) \\dfrac{\\Delta g(x)}{\\Delta x} + g(x) \\dfrac{\\Delta f(x)}{\\Delta x} + \\Delta f(x) \\dfrac{\\Delta g(x)}{\\Delta x} \\right)\\\\ \n",
    "&= \\displaystyle\\lim_{\\Delta x \\rightarrow 0} \\left(f(x) \\dfrac{\\Delta g(x)}{\\Delta x} \\right) + \\displaystyle\\lim_{\\Delta x \\rightarrow 0} \\left( g(x) \\dfrac{\\Delta f(x)}{\\Delta x} \\right) + \\displaystyle\\lim_{\\Delta x \\rightarrow 0} \\left(\\Delta f(x) \\dfrac{\\Delta g(x)}{\\Delta x} \\right)\\\\\n",
    "&= f(x) \\dfrac{d g(x)}{d x} + g(x) \\dfrac{d f(x)}{d x}\n",
    "\\end{aligned}\n",
    "$$"
   ]
  },
  {
   "cell_type": "markdown",
   "metadata": {
    "slideshow": {
     "slide_type": "subslide"
    }
   },
   "source": [
    "### Exercises\n",
    "#### 3.3\n",
    "Use the product rule for computing the derivative of the following functions:\n",
    "\n",
    "**a)** $f(x) = x \\mathrm{e}^x $\n",
    "\n",
    "**b)** $f(x) = x^2 \\sin(x) $\n",
    "\n",
    "**c)** $f(x) = \\cos(x)^2 $\n",
    "\n",
    "**d)** $\\mathrm{e}^x(x^3 + 2 x) $"
   ]
  },
  {
   "cell_type": "markdown",
   "metadata": {
    "slideshow": {
     "slide_type": "slide"
    }
   },
   "source": [
    "## Functional composition and the chain rule\n",
    "\n",
    "Consider a function $u(x)$ mapping its domain $A$ into its codomain $B$:\n",
    "$$\n",
    "u(x):A \\rightarrow B\n",
    "$$\n",
    "Now consider another function $f(u)$ having the $B$ as its domain:\n",
    "$$\n",
    "f(u): B \\rightarrow C\n",
    "$$\n",
    "We can combine this two function into a new function $h(x)$ having $A$ as domain and $C$ as codomain. We simply need to apply the function $u(x)$ first and then the function $f(u)$ on the result:\n",
    "$$\n",
    "h(x) = f(u(x))\n",
    "$$"
   ]
  },
  {
   "cell_type": "markdown",
   "metadata": {
    "slideshow": {
     "slide_type": "subslide"
    }
   },
   "source": [
    "#### Example 1\n",
    "Consider the following functions:\n",
    "\n",
    "$$\n",
    "u(x) = x^2\n",
    "$$\n",
    "\n",
    "and\n",
    "\n",
    "$$\n",
    "f(u) = \\mathrm{e}^u\n",
    "$$\n",
    "\n",
    "their composition is:\n",
    "\n",
    "$$\n",
    "h(x) = f(u(x)) = \\mathrm{e}^{u(x)} = \\mathrm{e}^{x^2}\n",
    "$$"
   ]
  },
  {
   "cell_type": "markdown",
   "metadata": {
    "slideshow": {
     "slide_type": "subslide"
    }
   },
   "source": [
    "#### Example 2\n",
    "$$\n",
    "u(x) = 3x + 2\n",
    "$$\n",
    "\n",
    "$$\n",
    "f(u) = \\cos(u) + \\sin(u)\n",
    "$$\n",
    "\n",
    "$$\n",
    "h(x) = f(u(x)) = \\cos(u(x)) + \\sin(u(x)) = \\cos(3x + 2) + \\sin(3x + 2)\n",
    "$$"
   ]
  },
  {
   "cell_type": "markdown",
   "metadata": {
    "slideshow": {
     "slide_type": "subslide"
    }
   },
   "source": [
    "### The chain rule\n",
    "\n",
    "$$\n",
    "\\dfrac{dh(x)}{dx} = \\dfrac{df(u(x))}{du} \\dfrac{du(x)}{dx}\n",
    "$$"
   ]
  },
  {
   "cell_type": "markdown",
   "metadata": {
    "slideshow": {
     "slide_type": "subslide"
    }
   },
   "source": [
    "#### Example 1\n",
    "\n",
    "Let's take the derivative of:\n",
    "\n",
    "$$\n",
    "h(x) = \\mathrm{e}^{x^2}\n",
    "$$\n",
    "\n",
    "We have that:\n",
    "\n",
    "$$\n",
    "\\dfrac{d f(u(x))}{du} = \\dfrac{d \\mathrm{e}^{u(x)}}{du} = \\mathrm{e}^{u(x)}\n",
    "$$\n",
    "\n",
    "and\n",
    "\n",
    "$$\n",
    "\\dfrac{d u(x)}{dx} = 2 x\n",
    "$$\n",
    "\n",
    "therefore:\n",
    "\n",
    "$$\n",
    "\\dfrac{dh(x)}{dx} = \\dfrac{df(u(x))}{du} \\dfrac{du(x)}{dx} = \\mathrm{e}^{u(x)}  2 x = 2 x \\mathrm{e}^{x^2} \n",
    "$$"
   ]
  },
  {
   "cell_type": "markdown",
   "metadata": {
    "slideshow": {
     "slide_type": "subslide"
    }
   },
   "source": [
    "#### Example 2\n",
    "Let's take the derivative of:\n",
    "\n",
    "$$\n",
    "h(x) = f(u(x)) = \\cos(u(x)) + \\sin(u(x)) = \\cos(3x + 2) + \\sin(3x + 2)\n",
    "$$\n",
    "\n",
    "We have that:\n",
    "\n",
    "$$\n",
    "\\dfrac{d f(u(x))}{du} = \\dfrac{d \\cos(u(x)) + \\sin(u(x))}{du} = \\dfrac{d \\cos(u(x))}{du} + \\dfrac{\\sin(u(x))}{du} = -\\sin(u(x)) + \\cos(u(x))\n",
    "$$\n",
    "\n",
    "and\n",
    "\n",
    "$$\n",
    "\\dfrac{d u(x)}{dx} = \\dfrac{d (3 x + 2)}{dx} = 3\n",
    "$$\n",
    "\n",
    "therefore:\n",
    "\n",
    "$$\n",
    "\\dfrac{dh(x)}{dx} = \\dfrac{df(u(x))}{du} \\dfrac{du(x)}{dx} = (-\\sin(u(x)) + \\cos(u(x))) 3 = 3 (\\cos(3 x + 2)-\\sin(3 x + 2))\n",
    "$$"
   ]
  },
  {
   "cell_type": "markdown",
   "metadata": {
    "slideshow": {
     "slide_type": "subslide"
    }
   },
   "source": [
    "### Exercises\n",
    "#### 3.4\n",
    "Use the chain rule for computing the derivative of the following functions:\n",
    "\n",
    "**a)** $f(x) = \\mathrm{e}^{x^3} $\n",
    "\n",
    "**b)** $f(x) = \\mathrm{e}^{\\frac{1}{x}} $\n",
    "\n",
    "**c)** $f(x) = \\cos(4 x) $\n",
    "\n",
    "**d)** $f(x) = \\sin(3 x^3 + 2 x) $"
   ]
  },
  {
   "cell_type": "markdown",
   "metadata": {
    "slideshow": {
     "slide_type": "subslide"
    }
   },
   "source": [
    "Use the chain rule twice in order to compute the derivative of the following functions:\n",
    "\n",
    "**e)** $f(x) = \\mathrm{e}^{\\cos(x^3)} $\n",
    "\n",
    "**f)** $f(x) = \\cos(\\sin(\\mathrm{e}^x)) $\n",
    "\n",
    "**g)** Use the chain rule iteratively to show that:\n",
    "\n",
    "$$\n",
    "\\dfrac{d(x^{8})}{dx} = 8 x^{7}\n",
    "$$\n",
    "\n",
    "Hint:\n",
    "Write $x^{2 n}$ as the following nested composition:\n",
    "\n",
    "$$\n",
    "x^{8} = \\left(\\left(x^2 \\right)^2\\right)^2\n",
    "$$"
   ]
  },
  {
   "cell_type": "markdown",
   "metadata": {
    "slideshow": {
     "slide_type": "subslide"
    }
   },
   "source": [
    "### Exercises \n",
    "#### 3.5\n",
    "Use all the rules you know to take the derivatives of the following functions:\n",
    "\n",
    "**a)** $f(x) = x \\mathrm{e}^{x^2} + x^2 + 2 $\n",
    "\n",
    "**b)** $f(x) = x^2 \\mathrm{e}^{\\cos(x^2)} + \\sin(3 x) $\n",
    "\n",
    "**c)** $f(x) = \\cos(x^2) + \\mathrm{e}^x \\sin(x^3) $\n",
    "\n",
    "**d)** $f(x) = \\mathrm{e}^{3 x^4 + 1} + x^3 - \\cos(x)^3 $"
   ]
  }
 ],
 "metadata": {
  "celltoolbar": "幻灯片",
  "kernelspec": {
   "display_name": "Python 3",
   "language": "python",
   "name": "python3"
  },
  "language_info": {
   "codemirror_mode": {
    "name": "ipython",
    "version": 3
   },
   "file_extension": ".py",
   "mimetype": "text/x-python",
   "name": "python",
   "nbconvert_exporter": "python",
   "pygments_lexer": "ipython3",
   "version": "3.8.5"
  },
  "toc": {
   "base_numbering": 1,
   "nav_menu": {},
   "number_sections": true,
   "sideBar": true,
   "skip_h1_title": false,
   "title_cell": "Table of Contents",
   "title_sidebar": "Contents",
   "toc_cell": false,
   "toc_position": {},
   "toc_section_display": true,
   "toc_window_display": true
  },
  "varInspector": {
   "cols": {
    "lenName": 16,
    "lenType": 16,
    "lenVar": 40
   },
   "kernels_config": {
    "python": {
     "delete_cmd_postfix": "",
     "delete_cmd_prefix": "del ",
     "library": "var_list.py",
     "varRefreshCmd": "print(var_dic_list())"
    },
    "r": {
     "delete_cmd_postfix": ") ",
     "delete_cmd_prefix": "rm(",
     "library": "var_list.r",
     "varRefreshCmd": "cat(var_dic_list()) "
    }
   },
   "types_to_exclude": [
    "module",
    "function",
    "builtin_function_or_method",
    "instance",
    "_Feature"
   ],
   "window_display": false
  }
 },
 "nbformat": 4,
 "nbformat_minor": 2
}
