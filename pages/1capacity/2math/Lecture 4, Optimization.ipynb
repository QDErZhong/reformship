{
 "cells": [
  {
   "cell_type": "raw",
   "metadata": {
    "slideshow": {
     "slide_type": "slide"
    }
   },
   "source": [
    "<head>\n",
    "<meta charset=\"UTF-8\">\n",
    "</head>\n",
    "<section  data-state=\"no-title-footer\">\n",
    "    <p>&nbsp;</p>\n",
    "    <p>&nbsp;</p>\n",
    "    <div class=\"intro_h1\"><h1 style=\"text-align:center;\">数学建模</h1></div>\n",
    "    <p>&nbsp;</p>\n",
    "    <h3 style=\"text-align:center;\">数学知识点</h3>\n",
    "    <h3 style=\"color:tomato;text-align:center;\">数学基础-优化</h3>\n",
    "    <p>&nbsp;</p>\n",
    "    <p style=\"text-align:center;\"><strong><span class=\"a\">Wang Haihua</span></strong> <span class=\"b\"></span> <span> </span></p>\n",
    "    <p style=\"font-size:48px;text-align:center;\"> &#128645; &#128651;&#x1F61C; &#128657; &#128660;</p>\n",
    "</section>"
   ]
  },
  {
   "cell_type": "code",
   "execution_count": 1,
   "metadata": {
    "ExecuteTime": {
     "end_time": "2022-04-02T15:40:27.582112Z",
     "start_time": "2022-04-02T15:40:27.234611Z"
    },
    "slideshow": {
     "slide_type": "subslide"
    }
   },
   "outputs": [],
   "source": [
    "import matplotlib.pyplot as plt\n",
    "import numpy as np\n",
    "%matplotlib inline"
   ]
  },
  {
   "cell_type": "markdown",
   "metadata": {
    "slideshow": {
     "slide_type": "slide"
    }
   },
   "source": [
    "## Points of maxima and minima of a function\n",
    "\n",
    "In this lecture we will learn how to use derivatives for finding the inputs that either minimize or maximize a function. This is extremely important in applied mathematics, statistics and machine learning as we can derive powerful algorithms by fitting the parameters of a function in a way that minimizes a error function. Therefore, a model fitting problem can be solved by finding the values of the parameters such at ther value of the error function is minimized."
   ]
  },
  {
   "cell_type": "markdown",
   "metadata": {
    "slideshow": {
     "slide_type": "subslide"
    }
   },
   "source": [
    "Consider a function $f(x)$. A point of global minimum is defined as the value $\\hat{x}$ such that \n",
    "\n",
    "$$\n",
    "f(\\hat{x}) \\leq f(x)\n",
    "$$\n",
    "\n",
    "for all $x$ in the domain of the function. If $\\hat{x}$ is a point of global minimum, then we say that $f(\\hat{x})$ is the minimum of the function."
   ]
  },
  {
   "cell_type": "markdown",
   "metadata": {
    "slideshow": {
     "slide_type": "subslide"
    }
   },
   "source": [
    "We can also define a points of local minimum as follows:\n",
    "\n",
    "$\\tilde{x}$ is a point of local minimum when there is a number ch that $\\tilde{x}$ is a global minimum of the restriction of $f(x)$ to the smalled domain ranging from $\\tilde{x}-\\delta$ to  $\\tilde{x} + \\delta$.\n",
    "\n",
    "This simply means that $\\tilde{x}$ is a global minimum when we only consider a small enough region around it. Note that global minima are also local minima since in that case the definition is fulfilled for all values of $\\delta$."
   ]
  },
  {
   "cell_type": "markdown",
   "metadata": {
    "slideshow": {
     "slide_type": "subslide"
    }
   },
   "source": [
    "Again, we say that $f(\\tilde{x})$ is a local minimum of the function.\n",
    "\n",
    "Local and global maxima can be defined in a analogous way by replacing $\\leq$ with $\\geq$.\n",
    "\n",
    "Global and local minima and maxima are visualized in the following figure\n",
    "\n",
    "<img src=\"https://qph.fs.quoracdn.net/main-qimg-d7d568041ac03fadb262db316cafd79b.webp\" alt=\"drawing\" width=\"400\"/> "
   ]
  },
  {
   "cell_type": "markdown",
   "metadata": {
    "slideshow": {
     "slide_type": "slide"
    }
   },
   "source": [
    "## Critical points and optimization\n",
    "\n",
    "When a function $f(x)$ is smooth (i.e. it has a well defined derivative everywhere), pints of maxima and points of minima anre examples of critical points.\n",
    "\n",
    "A critical point $x_c$ is a point where the derivative $\\dfrac{df(x_c)}{dx}$ is equal to zero. Geometrically, this means that the tangent line of the graph of the funtion at $x_c$ is horizontal. "
   ]
  },
  {
   "cell_type": "markdown",
   "metadata": {
    "slideshow": {
     "slide_type": "subslide"
    }
   },
   "source": [
    "Importantly, if a point is critical then it is either a point of maximum/minimum or a saddle point. A example of saddle point is visualized in the following figure.\n",
    "\n",
    "<img src=\"https://upload.wikimedia.org/wikipedia/commons/thumb/a/a8/Saddle_point_2.svg/1280px-Saddle_point_2.svg.png\" alt=\"drawing\" width=\"400\"/>\n",
    "\n",
    "Near a saddle point, the magnitude of the rate of change of a faction gradually reduces until it vanishes completely. However, after the point the function \"keeps moving\" in the same direction it was \"moving\" before. Conversely, in points of maxima or minima the rete of change of the function changes sign after the critical point. "
   ]
  },
  {
   "cell_type": "markdown",
   "metadata": {
    "slideshow": {
     "slide_type": "subslide"
    }
   },
   "source": [
    "### Finding the critical points\n",
    "\n",
    "Finding critical points is very important as it allows us to find the points of minimum and maximum of a function.\n",
    "\n",
    "The critical points of a function $f(x)$ are the solution of the following equation:\n",
    "\n",
    "$$\n",
    "\\dfrac{df(x)}{dx} = 0\n",
    "$$"
   ]
  },
  {
   "cell_type": "markdown",
   "metadata": {
    "slideshow": {
     "slide_type": "subslide"
    }
   },
   "source": [
    "#### Example 1\n",
    "Consider the following quadratic function:\n",
    "\n",
    "$f(x) = -3 x^2 + x - 1$\n",
    "\n",
    "Its derivative is:\n",
    "\n",
    "$$\n",
    "\\dfrac{df(x)}{dx} = -6 x + 1\n",
    "$$"
   ]
  },
  {
   "cell_type": "markdown",
   "metadata": {
    "slideshow": {
     "slide_type": "subslide"
    }
   },
   "source": [
    "Therefore, the equation for the critical points is:\n",
    "\n",
    "$$\n",
    "-6 x + 1 = 0\n",
    "$$\n",
    "\n",
    "which has a single solution:\n",
    "\n",
    "$$\n",
    "x_c = \\dfrac{1}{6}\n",
    "$$\n",
    "\n",
    "Therefore, $x_c = \\frac{1}{6}$ is the only critical point of the function. In this case, it is easy to see that this point is a point of local (and global) maximum. We can see this by plotting the function using python:"
   ]
  },
  {
   "cell_type": "code",
   "execution_count": 2,
   "metadata": {
    "ExecuteTime": {
     "end_time": "2022-04-02T15:40:27.866399Z",
     "start_time": "2022-04-02T15:40:27.582112Z"
    },
    "slideshow": {
     "slide_type": "subslide"
    }
   },
   "outputs": [
    {
     "data": {
      "text/plain": [
       "<matplotlib.legend.Legend at 0x2158e98b310>"
      ]
     },
     "execution_count": 2,
     "metadata": {},
     "output_type": "execute_result"
    },
    {
     "data": {
      "image/png": "[encoded data removed]",
      "text/plain": [
       "<Figure size 432x288 with 1 Axes>"
      ]
     },
     "metadata": {
      "needs_background": "light"
     },
     "output_type": "display_data"
    }
   ],
   "source": [
    "f = lambda x: -3*x**2 + x - 1\n",
    "\n",
    "x_c = 1/6\n",
    "\n",
    "x_range = np.linspace(-1,1,100)\n",
    "plt.plot(x_range, f(x_range), label=\"f(x)\")\n",
    "plt.axvline(x_c, ls=\"--\", c=\"k\", label=\"Critical point\")\n",
    "plt.legend(loc=\"best\")"
   ]
  },
  {
   "cell_type": "markdown",
   "metadata": {
    "slideshow": {
     "slide_type": "subslide"
    }
   },
   "source": [
    "#### Example 2\n",
    "Consider the following quadratic function:\n",
    "\n",
    "$f(x) = x^3 - 2x^2 + x$\n",
    "\n",
    "Its derivative is:\n",
    "\n",
    "$$\n",
    "\\dfrac{df(x)}{dx} = 3 x^2 - 4 x + 1\n",
    "$$"
   ]
  },
  {
   "cell_type": "markdown",
   "metadata": {
    "slideshow": {
     "slide_type": "subslide"
    }
   },
   "source": [
    "Therefore, the equation for the critical points is:\n",
    "\n",
    "$$\n",
    "3x^2 - 4 x +1 = 0\n",
    "$$\n",
    "\n",
    "Using the quadratic formula, we find the following two solutions:\n",
    "\n",
    "$$\n",
    "x_{\\pm} = \\dfrac{4 \\pm \\sqrt{16 - 12}}{6} = \\dfrac{4 \\pm 2}{6} \n",
    "$$"
   ]
  },
  {
   "cell_type": "markdown",
   "metadata": {
    "slideshow": {
     "slide_type": "subslide"
    }
   },
   "source": [
    "Hence, the critical points are:\n",
    "\n",
    "$$\n",
    "x_{+} = 1\n",
    "$$\n",
    "\n",
    "and\n",
    "\n",
    "$$\n",
    "x_{-} = \\dfrac{1}{3} \n",
    "$$\n",
    "\n",
    "Again, we can see the nature of these critical points by plotting the function using python:"
   ]
  },
  {
   "cell_type": "code",
   "execution_count": 3,
   "metadata": {
    "ExecuteTime": {
     "end_time": "2022-04-02T15:40:28.121203Z",
     "start_time": "2022-04-02T15:40:27.876366Z"
    },
    "slideshow": {
     "slide_type": "subslide"
    }
   },
   "outputs": [
    {
     "data": {
      "text/plain": [
       "<matplotlib.legend.Legend at 0x2158f12d640>"
      ]
     },
     "execution_count": 3,
     "metadata": {},
     "output_type": "execute_result"
    },
    {
     "data": {
      "image/png": "[encoded data removed]",
      "text/plain": [
       "<Figure size 432x288 with 1 Axes>"
      ]
     },
     "metadata": {
      "needs_background": "light"
     },
     "output_type": "display_data"
    }
   ],
   "source": [
    "f = lambda x: x**3 - 2*x**2 + x\n",
    "\n",
    "x_p = 1\n",
    "x_m = 1/3\n",
    "\n",
    "x_range = np.linspace(-0.25,1.5,100)\n",
    "plt.plot(x_range, f(x_range), label=\"f(x)\")\n",
    "plt.axvline(x_p, ls=\"--\", c=\"k\", label=\"Critical point -\")\n",
    "plt.axvline(x_m, ls=\"--\", c=\"r\", label=\"Critical point +\")\n",
    "plt.legend(loc=\"best\")"
   ]
  },
  {
   "cell_type": "markdown",
   "metadata": {
    "slideshow": {
     "slide_type": "subslide"
    }
   },
   "source": [
    "From this plot is clear that $x_+$ is a local maximum while $x_-$ is a local minimum. "
   ]
  },
  {
   "cell_type": "markdown",
   "metadata": {
    "slideshow": {
     "slide_type": "subslide"
    }
   },
   "source": [
    "### Excercises\n",
    "#### 4.1\n",
    "\n",
    "Find the critical points of the following functions:\n",
    "\n",
    "**a)** $ f(x) = 8 x^2 + 3x + 2 $\n",
    "\n",
    "**b)** $ f(x) = x^3 - 2 x^2 + 4 $\n",
    "\n",
    "**c)** $ f(x) = x \\mathrm{e}^x $\n",
    "\n",
    "**d)** $ f(x) = x^2 \\mathrm{e}^x $\n",
    "\n",
    "**e)** $ f(x) = \\mathrm{e}^{-x^2} $\n"
   ]
  },
  {
   "cell_type": "markdown",
   "metadata": {
    "slideshow": {
     "slide_type": "slide"
    }
   },
   "source": [
    "## Second derivatives and quadratic approximations\n",
    "\n",
    "Looking at the values of the derivative, we have a simple method for finding the critical points. However, the derivative does not provide information concerning the nature of the critical point as it is equal to zero for points of maximum, points of minimum and saddle points."
   ]
  },
  {
   "cell_type": "markdown",
   "metadata": {
    "slideshow": {
     "slide_type": "subslide"
    }
   },
   "source": [
    "As we saw in the previous lecture, the derivative gives information about the linear behavior of the function around a point. In a critical point, this linear behavior does not play a role as the derivative is zero. We can gain further information by looking athe the quadratic behaviopr around the point. This corresponds to the best (local) approximatiopn of the function with a parabola:"
   ]
  },
  {
   "cell_type": "markdown",
   "metadata": {
    "slideshow": {
     "slide_type": "subslide"
    }
   },
   "source": [
    "Consider the function $f(x)$ and a point $x_0$. A quadradic (parabolic) approximation of the function around the point is given by the following expression:\n",
    "\n",
    "\n",
    "$$\n",
    "f_p(x) = a (x - x_0)^2 + \\dfrac{df(x_0)}{dx} (x - x_0) + f(x_0)\n",
    "$$"
   ]
  },
  {
   "cell_type": "markdown",
   "metadata": {
    "slideshow": {
     "slide_type": "subslide"
    }
   },
   "source": [
    "Note that we already know that the constant term should be $f(x_0)$ and that the linear slope should be $\\dfrac{df(x_0)}{dx}$.\n",
    "\n",
    "How do we determine the coefficient $a$ of the quadratic term? In order to find the answer we need to introduce the concept of second derivative."
   ]
  },
  {
   "cell_type": "markdown",
   "metadata": {
    "slideshow": {
     "slide_type": "subslide"
    }
   },
   "source": [
    "The second derivative of a function $f(x)$ is defined as the derivative of its derivative:\n",
    "\n",
    "$$\n",
    "\\dfrac{d^2 f(x)}{d x^2} = \\dfrac{d}{dx}\\left(\\dfrac{df(x)}{dx} \\right)\n",
    "$$"
   ]
  },
  {
   "cell_type": "markdown",
   "metadata": {
    "slideshow": {
     "slide_type": "subslide"
    }
   },
   "source": [
    "For example, consider the following quadratic function:\n",
    "\n",
    "$$\n",
    "q(x) = \\alpha (x - x_0)^2 + \\beta (x - x_0) + \\gamma\n",
    "$$"
   ]
  },
  {
   "cell_type": "markdown",
   "metadata": {
    "slideshow": {
     "slide_type": "subslide"
    }
   },
   "source": [
    "Its derivative is:\n",
    "\n",
    "$$\n",
    "\\dfrac{q(x)}{dx} = 2 \\alpha (x - x_0) + \\beta \n",
    "$$\n",
    "\n",
    "We can now obtain the second derivative by taking the derivative of this expression:\n",
    "\n",
    "$$\n",
    "\\dfrac{d}{dx}\\left(\\dfrac{dq(x)}{dx} \\right) = \\dfrac{d (2 \\alpha (x - x_0) + b)}{dx} = 2 \\alpha\n",
    "$$"
   ]
  },
  {
   "cell_type": "markdown",
   "metadata": {
    "slideshow": {
     "slide_type": "subslide"
    }
   },
   "source": [
    "Therefore, the second derivative of a quadratic function is equal to twice its quadratic coefficient $\\alpha$.\n",
    "\n",
    "We can now find the parameter $a$ of our quadratic approximation by requiring that its second derivative at $x_0$ is equal to the second deriovative of the original funcion $f(x)$ at $x_0$.\n",
    "\n",
    "Since we just saw that the second derivative of a quadratic function is equal to twice its quadratic coefficient, we conclude that:\n",
    "\n",
    "$$\n",
    "a = \\dfrac{1}{2}\\dfrac{d^2 f(x_0)}{d x^2}\n",
    "$$"
   ]
  },
  {
   "cell_type": "markdown",
   "metadata": {
    "slideshow": {
     "slide_type": "subslide"
    }
   },
   "source": [
    "Threfore, the local quadratic approximation is given by the following expression\n",
    "\n",
    "$$\n",
    "f_p(x) = \\dfrac{1}{2}\\dfrac{d^2 f(x_0)}{d x^2} (x - x_0)^2 + \\dfrac{df(x_0)}{dx} (x - x_0) + f(x_0)\n",
    "$$\n",
    "\n",
    "The following python plot show the linear and quadratic approximation of the sine function around a (non-critical) point:"
   ]
  },
  {
   "cell_type": "code",
   "execution_count": 4,
   "metadata": {
    "ExecuteTime": {
     "end_time": "2022-04-02T15:40:28.136922Z",
     "start_time": "2022-04-02T15:40:28.122200Z"
    },
    "slideshow": {
     "slide_type": "subslide"
    }
   },
   "outputs": [],
   "source": [
    "f = lambda x: np.sin(x)\n",
    "df = lambda x: np.cos(x)\n",
    "ddf = lambda x: -np.sin(x)\n",
    "\n",
    "x_range = np.linspace(-np.pi,np.pi,100)\n",
    "x0 = 1/2\n",
    "\n",
    "fl = lambda x: f(x0) + df(x0)*(x - x0) \n",
    "fp = lambda x: f(x0) + df(x0)*(x - x0) + 0.5*ddf(x0)*(x - x0)**2"
   ]
  },
  {
   "cell_type": "code",
   "execution_count": 5,
   "metadata": {
    "ExecuteTime": {
     "end_time": "2022-04-02T15:40:28.343490Z",
     "start_time": "2022-04-02T15:40:28.139894Z"
    },
    "slideshow": {
     "slide_type": "subslide"
    }
   },
   "outputs": [
    {
     "data": {
      "text/plain": [
       "<matplotlib.legend.Legend at 0x2158f1a7790>"
      ]
     },
     "execution_count": 5,
     "metadata": {},
     "output_type": "execute_result"
    },
    {
     "data": {
      "image/png": "[encoded data removed]",
      "text/plain": [
       "<Figure size 432x288 with 1 Axes>"
      ]
     },
     "metadata": {
      "needs_background": "light"
     },
     "output_type": "display_data"
    }
   ],
   "source": [
    "plt.plot(x_range, f(x_range), c=\"k\", label =\"f(x)\")\n",
    "plt.plot(x_range, fl(x_range), label=\"Linear approximation\")\n",
    "plt.plot(x_range, fp(x_range), label=\"Quadratic approximation\")\n",
    "plt.axvline(x0, ls=\"--\", c=\"k\", label=\"Approximation point\")\n",
    "plt.ylim(-1.2,1.2)\n",
    "plt.legend(loc=\"best\")"
   ]
  },
  {
   "cell_type": "markdown",
   "metadata": {
    "slideshow": {
     "slide_type": "subslide"
    }
   },
   "source": [
    "What happens when we consider the best quadratic approximation around a critical point? In that case, the first derivative vanishes and we are left with a simpler approximation:\n",
    "\n",
    "$$\n",
    "f_p(x) = \\dfrac{1}{2}\\dfrac{d^2 f(x_0)}{d x^2} (x - x_0)^2 + f(x_0)\n",
    "$$\n",
    "\n",
    "Using Python, we can see what happens when we approximate the function around a point of maximum:"
   ]
  },
  {
   "cell_type": "code",
   "execution_count": 6,
   "metadata": {
    "ExecuteTime": {
     "end_time": "2022-04-02T15:40:28.582959Z",
     "start_time": "2022-04-02T15:40:28.344489Z"
    },
    "slideshow": {
     "slide_type": "subslide"
    }
   },
   "outputs": [
    {
     "data": {
      "text/plain": [
       "<matplotlib.legend.Legend at 0x2158f22a130>"
      ]
     },
     "execution_count": 6,
     "metadata": {},
     "output_type": "execute_result"
    },
    {
     "data": {
      "image/png": "[encoded data removed]",
      "text/plain": [
       "<Figure size 432x288 with 1 Axes>"
      ]
     },
     "metadata": {
      "needs_background": "light"
     },
     "output_type": "display_data"
    }
   ],
   "source": [
    "x_range = np.linspace(-np.pi,np.pi,100)\n",
    "x0 = np.pi/2\n",
    "\n",
    "fl = lambda x: f(x0) + df(x0)*(x - x0) \n",
    "fp = lambda x: f(x0) + df(x0)*(x - x0) + 0.5*ddf(x0)*(x - x0)**2\n",
    "\n",
    "plt.plot(x_range, f(x_range), c=\"k\", label =\"f(x)\")\n",
    "plt.plot(x_range, fl(x_range), label=\"Linear approximation\")\n",
    "plt.plot(x_range, fp(x_range), label=\"Quadratic approximation\")\n",
    "plt.axvline(x0, ls=\"--\", c=\"k\", label=\"Approximation point\")\n",
    "plt.ylim(-1.2,1.2)\n",
    "plt.legend(loc=\"best\")"
   ]
  },
  {
   "cell_type": "markdown",
   "metadata": {
    "slideshow": {
     "slide_type": "subslide"
    }
   },
   "source": [
    "As expected, the linear approximation is a constant function. More interestingly, the quadratic approximation is a parabola \"pointing down\" with its point of maximum at the maximum iof the function $f(x)$. Note that the parabola \"points down\" because the second derivative is negative at $x_0$.\n",
    "\n",
    "Let's now consider the quadratic approximation around a point of minimum:"
   ]
  },
  {
   "cell_type": "code",
   "execution_count": 7,
   "metadata": {
    "ExecuteTime": {
     "end_time": "2022-04-02T15:40:28.597918Z",
     "start_time": "2022-04-02T15:40:28.583957Z"
    },
    "slideshow": {
     "slide_type": "subslide"
    }
   },
   "outputs": [],
   "source": [
    "x_range = np.linspace(-np.pi,np.pi,100)\n",
    "x0 = -np.pi/2\n",
    "\n",
    "fl = lambda x: f(x0) + df(x0)*(x - x0) \n",
    "fp = lambda x: f(x0) + df(x0)*(x - x0) + 0.5*ddf(x0)*(x - x0)**2"
   ]
  },
  {
   "cell_type": "code",
   "execution_count": 8,
   "metadata": {
    "ExecuteTime": {
     "end_time": "2022-04-02T15:40:28.837078Z",
     "start_time": "2022-04-02T15:40:28.602907Z"
    },
    "slideshow": {
     "slide_type": "subslide"
    }
   },
   "outputs": [
    {
     "data": {
      "text/plain": [
       "<matplotlib.legend.Legend at 0x2158f290940>"
      ]
     },
     "execution_count": 8,
     "metadata": {},
     "output_type": "execute_result"
    },
    {
     "data": {
      "image/png": "[encoded data removed]",
      "text/plain": [
       "<Figure size 432x288 with 1 Axes>"
      ]
     },
     "metadata": {
      "needs_background": "light"
     },
     "output_type": "display_data"
    }
   ],
   "source": [
    "plt.plot(x_range, f(x_range), c=\"k\", label =\"f(x)\")\n",
    "plt.plot(x_range, fl(x_range), label=\"Linear approximation\")\n",
    "plt.plot(x_range, fp(x_range), label=\"Quadratic approximation\")\n",
    "plt.axvline(x0, ls=\"--\", c=\"k\", label=\"Approximation point\")\n",
    "plt.ylim(-1.2,1.2)\n",
    "plt.legend(loc=\"best\")"
   ]
  },
  {
   "cell_type": "markdown",
   "metadata": {
    "slideshow": {
     "slide_type": "subslide"
    }
   },
   "source": [
    "In this case, the second derivative is positive and the parabola \"points up\".\n",
    "\n",
    "This suggests a method for finding if a critical point is a point of maximum or a point of minimum. We simply need to look at the sign of the second derivative at the critical point. If the second derivative is positive we are in a point of minimum while if the second derivative is negative we are in a point of maximum."
   ]
  },
  {
   "cell_type": "markdown",
   "metadata": {
    "slideshow": {
     "slide_type": "subslide"
    }
   },
   "source": [
    "#### Example\n",
    "\n",
    "Consider the following function:\n",
    "\n",
    "$$\n",
    "f(x) = x \\mathrm{e}^x + 1\n",
    "$$\n",
    "\n",
    "Its derivative is:\n",
    "\n",
    "$$\n",
    "\\frac{f(x)}{dx} = \\mathrm{e}^x(1 + x)\n",
    "$$\n",
    "\n",
    "Therefore, the critical points are determined by the following equation:\n",
    "\n",
    "$$\n",
    "\\mathrm{e}^x (1 + x) = 0\n",
    "$$"
   ]
  },
  {
   "cell_type": "markdown",
   "metadata": {
    "slideshow": {
     "slide_type": "subslide"
    }
   },
   "source": [
    "Since $\\mathrm{e}^x$ is never equal to zero, we can devide both sides by $\\mathrm{e}^x$ to obtain:\n",
    "\n",
    "$$\n",
    "1 + x = 0\n",
    "$$\n",
    "\n",
    "which is clearly solved by\n",
    "\n",
    "$$\n",
    "x_c = -1\n",
    "$$"
   ]
  },
  {
   "cell_type": "markdown",
   "metadata": {
    "slideshow": {
     "slide_type": "subslide"
    }
   },
   "source": [
    "We can now look at the value of the second derivative at this critical point. The second derivative is:\n",
    "\n",
    "$$\n",
    "\\dfrac{d(\\mathrm{e}^x (1 + x))}{dx} = \\mathrm{e}^x (2 + x)\n",
    "$$\n",
    "\n",
    "the value of the second derivative at $x = x_c = -1$ is:\n",
    "\n",
    "$$\n",
    "\\dfrac{d^2f(-1)}{dx} = \\mathrm{e}^{-1} (2 - 1) = \\mathrm{e}^{-1} = \\dfrac{1}{\\mathrm{e}}\n",
    "$$\n",
    "\n",
    "Since this value is positive, we can conclude that $x_c = -1$ is a point of minimum."
   ]
  },
  {
   "cell_type": "code",
   "execution_count": 9,
   "metadata": {
    "ExecuteTime": {
     "end_time": "2022-04-02T15:40:28.853175Z",
     "start_time": "2022-04-02T15:40:28.839074Z"
    },
    "slideshow": {
     "slide_type": "subslide"
    }
   },
   "outputs": [],
   "source": [
    "f = lambda x: x*np.exp(x)\n",
    "df = lambda x: np.exp(x)*(1 + x)\n",
    "ddf = lambda x: np.exp(x)*(2 + x)\n",
    "\n",
    "x_range = np.linspace(-3,0.5,100)\n",
    "x0 = -1\n",
    "\n",
    "fl = lambda x: f(x0) + df(x0)*(x - x0) \n",
    "fp = lambda x: f(x0) + df(x0)*(x - x0) + 0.5*ddf(x0)*(x - x0)**2"
   ]
  },
  {
   "cell_type": "code",
   "execution_count": 10,
   "metadata": {
    "ExecuteTime": {
     "end_time": "2022-04-02T15:40:29.074597Z",
     "start_time": "2022-04-02T15:40:28.854172Z"
    },
    "slideshow": {
     "slide_type": "subslide"
    }
   },
   "outputs": [
    {
     "data": {
      "text/plain": [
       "<matplotlib.legend.Legend at 0x2158f3100a0>"
      ]
     },
     "execution_count": 10,
     "metadata": {},
     "output_type": "execute_result"
    },
    {
     "data": {
      "image/png": "[encoded data removed]",
      "text/plain": [
       "<Figure size 432x288 with 1 Axes>"
      ]
     },
     "metadata": {
      "needs_background": "light"
     },
     "output_type": "display_data"
    }
   ],
   "source": [
    "plt.plot(x_range, f(x_range), c=\"k\", label =\"f(x)\")\n",
    "plt.plot(x_range, fl(x_range), label=\"Linear approximation\")\n",
    "plt.plot(x_range, fp(x_range), label=\"Quadratic approximation\")\n",
    "plt.axvline(x0, ls=\"--\", c=\"k\", label=\"Approximation point\")\n",
    "plt.ylim(-1.2,1.2)\n",
    "plt.legend(loc=\"best\")"
   ]
  },
  {
   "cell_type": "markdown",
   "metadata": {
    "slideshow": {
     "slide_type": "subslide"
    }
   },
   "source": [
    "### Exercises\n",
    "#### 4.2\n",
    "Find the critical points of the following functions and determine if they are points of maximum or points of minimum.\n",
    "\n",
    "**a)** $f(x) = x^3 - 2 x^2 + 1$\n",
    "\n",
    "**b)** $f(x) = -x^2 + 2 x + 3$\n",
    "\n",
    "**c)** $f(x) = \\mathrm{e}^{-x^2}$\n",
    "\n",
    "**d)** $f(x) = (1 + x^2) \\mathrm{e}^x$\n"
   ]
  },
  {
   "cell_type": "markdown",
   "metadata": {
    "slideshow": {
     "slide_type": "slide"
    }
   },
   "source": [
    "## Higher derivatives and the Taylor expansion\n",
    "\n",
    "We can generalize the second order derivative to arbitrarily high order $k$-th derivatives simply by taking $k$ consecutive derivative of the function:\n",
    "\n",
    "<img align=\"center\" src=\"https://tex.s2cms.ru/svg/%0A%5Cfrac%7Bd%5Ek%20f%7D%7Bd%20x%5Ek%7D%20%3D%20%5Cunderbrace%7B%5Cfrac%7Bd%7D%7Bd%20x%7D%20%5Cfrac%7Bd%7D%7Bdx%7D%20...%20%5Cfrac%7Bd%7D%7Bd%20x%7D%7D_%7Bk%20%5Ctext%7B%20times%7D%7D%20f(x)%0A\" alt=\"\n",
    "\\frac{d^k f}{d x^k} = \\underbrace{\\frac{d}{d x} \\frac{d}{dx} ... \\frac{d}{d x}}_{k \\text{ times}} f(x)\n",
    "\" />"
   ]
  },
  {
   "cell_type": "markdown",
   "metadata": {
    "slideshow": {
     "slide_type": "subslide"
    }
   },
   "source": [
    "We can use these higher order derivatives for finding better local approximations of the function. These approximations are called Taylor expansions. Our linear approximation is said to be a first order taylor expansion while the quadratic approximation is a second order expansion. The $k$-order expansion approximate the function $f(x)$ around $x_0$ with a $k$-th degree polynomial. it is defined by the following formula:\n",
    "\n",
    "$$\n",
    "f_K(x) = \\displaystyle\\sum_{j = 0} ^K \\dfrac{1}{j!} \\dfrac{d^j f(x_0)}{d x^j} (x - x_0)^j\n",
    "$$\n",
    "\n",
    "where $j! = j \\cdot (j-1) \\cdot (j - 2) \\cdot  \\ldots  \\cdot 2  \\cdot 1$ is the factorial of $j$. In this formula, the 0-th derivative should be interpreted as the function itself:\n",
    "\n",
    "$$\n",
    "\\dfrac{d^0 f(x)}{d x^0} = f(x)\n",
    "$$"
   ]
  },
  {
   "cell_type": "markdown",
   "metadata": {
    "slideshow": {
     "slide_type": "subslide"
    }
   },
   "source": [
    "Also note that $0!$ is equal to $1$ by definition. \n",
    "\n",
    "These increasingly better polynomial approximations are visualized in the following figure:\n",
    "\n",
    "<img src=\"https://upload.wikimedia.org/wikipedia/commons/e/e4/Sintay_SVG.svg\" alt=\"drawing\" width=\"400\"/>"
   ]
  },
  {
   "cell_type": "markdown",
   "metadata": {
    "slideshow": {
     "slide_type": "subslide"
    }
   },
   "source": [
    "### Exercises\n",
    "#### 4.3\n",
    "\n",
    "**a)** Show that the first order taylor approximation is equal to the linear approximation we introduced in the previous lecture.\n",
    "\n",
    "**b)** Show that the second order taylor approximation is equal to the quadratic approximation we introduced in the previous section."
   ]
  },
  {
   "cell_type": "markdown",
   "metadata": {
    "slideshow": {
     "slide_type": "subslide"
    }
   },
   "source": [
    "**c)** Find the 5-th order Taylor approximation of\n",
    "\n",
    "$f(x) = \\mathrm{e}^x$\n",
    "\n",
    "around \n",
    "\n",
    "$x_0$ = 0\n",
    "\n",
    "**d)** Find the 3-th order Taylor approximation of\n",
    "\n",
    "$f(x) = x \\mathrm{e}^x$\n",
    "\n",
    "around \n",
    "\n",
    "$x_0$ = 1"
   ]
  },
  {
   "cell_type": "markdown",
   "metadata": {
    "slideshow": {
     "slide_type": "subslide"
    }
   },
   "source": [
    "### Fitting a straight line\n",
    "\n",
    "Finding the minimum of a function is very useful in many important applications. Consider a simple data science problem. You are interested to know whether the amount of alchol people drink influences the amount of tobacco they smoke. \n",
    "\n",
    "You collected several data points in a survey, each data point is a pair of valued $(x_j, y_j)$. The value $x_j$ is the average amount of alchol the $j$-th participant drinks in a week while the value $y_j$ is the average amount of tobacco she smokes in a week. "
   ]
  },
  {
   "cell_type": "markdown",
   "metadata": {
    "slideshow": {
     "slide_type": "subslide"
    }
   },
   "source": [
    "The whole dataset is a collection of these data pairs:\n",
    "\n",
    "$\\{ (x_1, y_1), (x_2, y_2), ... , (x_j, y_j), ... , (x_N, y_N) \\}$\n",
    "\n",
    "where $N$ is the total number of participants.\n",
    "\n",
    "For simplicity, you model the dependency between the two values as a linear function:\n",
    "\n",
    "$$\n",
    "l_b(x) = x b\n",
    "$$\n",
    "\n",
    "where $b$ is a parameter determining the slope of the straight line. The problem now is to find the best value of the parameter $b$ given our dataset?"
   ]
  },
  {
   "cell_type": "markdown",
   "metadata": {
    "slideshow": {
     "slide_type": "subslide"
    }
   },
   "source": [
    "In order to do so, we need to define a measure of error between our linear model $l_b(x)$ and the data.\n",
    "\n",
    "A simple possibility is to look at the squared deviation between measured tobacco usage and the tobacco usege predicted using our linear model. For a single datapoint $(x_j, y_j)$, this deviation is:\n",
    "\n",
    "$$\n",
    "|y_j - l_b(x_j)| \n",
    "$$"
   ]
  },
  {
   "cell_type": "markdown",
   "metadata": {
    "slideshow": {
     "slide_type": "subslide"
    }
   },
   "source": [
    "The datapoints, the linear model and the deviations are shown in the following figure\n",
    "\n",
    "<img src=\"https://dr282zn36sxxg.cloudfront.net/datastreams/f-d%3Ac513a70316e028d8be6f177f8b8e4813da8b27f5ff2b222c0b6dbc07%2BIMAGE_TINY%2BIMAGE_TINY.1\" alt=\"drawing\" width=\"400\"/>\n",
    "\n",
    "Unfortunately, the absolute value function in our definition of deviation is not easy to optimize. Therefore, it is better to use the square of the deviation:\n",
    "\n",
    "$$\n",
    "(y_j - l_b(x_j))^2\n",
    "$$"
   ]
  },
  {
   "cell_type": "markdown",
   "metadata": {
    "slideshow": {
     "slide_type": "subslide"
    }
   },
   "source": [
    "we can now write down a error function for the parameter $b$ by summing this squared deviation over all the datapoints:\n",
    "\n",
    "$$\n",
    "E(b) = \\dfrac{1}{2}\\displaystyle\\sum_j \\left(l_b(x_j) - y_j \\right)^2 = \\dfrac{1}{2}\\displaystyle\\sum_j \\left(b x_j - y_j \\right)^2\n",
    "$$\n",
    "\n",
    "Note that the factor of $1/2$ in this expression is not very important but it makes the formulas slightly easier.\n",
    " "
   ]
  },
  {
   "cell_type": "markdown",
   "metadata": {
    "slideshow": {
     "slide_type": "subslide"
    }
   },
   "source": [
    "We can now find the critical points of this error function using the methods we discussed in the previous sections. let's start by computing the derivative with respect to $b$:\n",
    "\n",
    "$$\n",
    "\\dfrac{dE(b)}{d b} = \\dfrac{d}{db}\\dfrac{1}{2}\\left( \\displaystyle\\sum_j \\left(b x_j - y_j \\right)^2 \\right) = \\dfrac{1}{2} \\displaystyle\\sum_j \\dfrac{d \\left(b x_j - y_j \\right)^2}{db} = \\dfrac{1}{2} \\displaystyle\\sum_j 2 \\left(b x_j - y_j \\right) \\dfrac{d (b x_j)}{d b} = \\displaystyle\\sum_j \\left(b x_j - y_j \\right) x_j\n",
    "$$"
   ]
  },
  {
   "cell_type": "markdown",
   "metadata": {
    "slideshow": {
     "slide_type": "subslide"
    }
   },
   "source": [
    "We can now write down the equation for the critical points by setting the derivative equal to zero:\n",
    "\n",
    "$$\n",
    "\\displaystyle\\sum_j \\left(\\hat{b} x_j - y_j \\right) x_j = 0\n",
    "$$\n",
    "\n",
    "This equation has a single solution obtained as follows:\n",
    "\n",
    "$$\n",
    " \\hat{b} \\displaystyle\\sum_j x_j = \\displaystyle\\sum_j y_j  x_j \n",
    "$$\n",
    "\n",
    "$$\n",
    " \\hat{b} = \\dfrac{\\displaystyle\\sum_j y_j  x_j} {\\displaystyle\\sum_j x_j} \n",
    "$$"
   ]
  },
  {
   "cell_type": "markdown",
   "metadata": {
    "slideshow": {
     "slide_type": "subslide"
    }
   },
   "source": [
    "We now have a ansewer for our problem of finding the value of the parameter $b$ that minimizes the error function. However, we need to make sure that this critical point is really a point of minimum!\n",
    "\n",
    "let's take the second derivative of the error function:\n",
    "\n",
    "$$\n",
    "\\dfrac{d^2 C(b)}{d b^2} = \\dfrac{d}{d b} \\left( \\displaystyle\\sum_j \\left(b x_j - y_j \\right) x_j \\right) = \\displaystyle\\sum_j \\frac{d b}{d b} x_j x_j = \\displaystyle\\sum_j x_j^2\n",
    "$$\n",
    "\n",
    "This expression is a sum of squares and it is therefore always positive. Consequently, the critical point is indeed a point of minimum of the error function."
   ]
  },
  {
   "cell_type": "markdown",
   "metadata": {
    "slideshow": {
     "slide_type": "subslide"
    }
   },
   "source": [
    "### Exercises\n",
    "#### 4.4\n",
    "\n",
    "Use the formula we just derived to find the optimal $b$ for the following dataset:\n",
    "\n",
    "$$\n",
    "\\{(x_1 = 1, y_1 = 2.2), (x_2 = 2, y_2 = 3.8), (x_3 = 3, y_3 = 6.2), (x_4 = 4, y_4 = 7.5)\\}\n",
    "$$"
   ]
  },
  {
   "cell_type": "markdown",
   "metadata": {
    "slideshow": {
     "slide_type": "slide"
    }
   },
   "source": [
    "## Numerical methods for optimization\n",
    "\n",
    "In most practical problems we cannot find the critical points using solely algebraic methods. For example, consider the following function:\n",
    "\n",
    "$$\n",
    "f(x) = x \\mathrm{e}^x + x\n",
    "$$\n",
    "\n",
    "The critical points equation is:\n",
    "\n",
    "$$\n",
    "\\mathrm{e}^x (1 + x) + 1 = 0\n",
    "$$\n",
    "\n",
    "which we cannot solve using simple algebra. "
   ]
  },
  {
   "cell_type": "markdown",
   "metadata": {
    "slideshow": {
     "slide_type": "subslide"
    }
   },
   "source": [
    "In this section we will introduce two methods for solving these problems approximatevely using a iterative approach. The basic idea is to start from a starting guess $x_0$ and to use a update rule that brings us closer to a critical point. We can then reach the critical point by iteratively apply the update rule."
   ]
  },
  {
   "cell_type": "markdown",
   "metadata": {
    "slideshow": {
     "slide_type": "subslide"
    }
   },
   "source": [
    "### Steepest descent\n",
    "\n",
    "The simplest numerical method for finding local minima is the steepest descent method (gradient descent). Consider the function $f(x)$ and a initialization point $x_0$. If the derivative of $f(x)$ at $x_0$ is equal to zero then we already are in a critical point. Otherwise, we can use the value of the derivative for knowing if the funtion increses or decreses when we mode away from $x_0$.\n",
    "\n",
    "In fact, if the derivative $\\dfrac{df (x_0)}{d x}$ is negative then the function $f(x)$ tends to become smaller when we move to the right of $x_0$. Conversely, if the derivative is positive we need to move to the left of $x_0$ if we want the function to become smaller. If we keep moving in this way the value of the function will become smaller and smaller and hopefully we will reach a point of minimum. Of course this is not garanteed as the function could keep decreasing forever."
   ]
  },
  {
   "cell_type": "markdown",
   "metadata": {
    "slideshow": {
     "slide_type": "subslide"
    }
   },
   "source": [
    "We can make this minimization approach precise with the following formula:\n",
    "\n",
    "$$\n",
    "x_{t+1} = x_t - \\eta \\dfrac{d f(x_t)}{dx}\n",
    "$$\n",
    "\n",
    "where $x_t$ is our current value, $x_{t+1}$ is the new value after applying the steepest descent update rule and $\\eta$ is a small positive number determining our step size. As expected, this update rule makes us move right when the derivative is negative and left when the derivative is negative."
   ]
  },
  {
   "cell_type": "markdown",
   "metadata": {
    "slideshow": {
     "slide_type": "subslide"
    }
   },
   "source": [
    "This iterative approach is visualized in the following figure:\n",
    "\n",
    "<img src=\"https://i0.wp.com/1.bp.blogspot.com/-06p1QCE3GOY/XQAIeBNNA6I/AAAAAAAAEio/RdxPhBcnlSEiMc03_b-ClHat8s--XgImgCLcBGAs/s400/grada.png?resize=400%2C248&ssl=1\" alt=\"drawing\" width=\"400\"/>\n",
    "\n",
    "Note that the step size $\\eta$ needs to be small enough since otherwise we risk to \"jump over\" the location of the local minimum."
   ]
  },
  {
   "cell_type": "markdown",
   "metadata": {
    "slideshow": {
     "slide_type": "subslide"
    }
   },
   "source": [
    "#### Example\n",
    "\n",
    "Consider the following function:\n",
    "\n",
    "$$\n",
    "f(x) = x \\mathrm{e}^x + x\n",
    "$$"
   ]
  },
  {
   "cell_type": "markdown",
   "metadata": {
    "slideshow": {
     "slide_type": "subslide"
    }
   },
   "source": [
    "We cannot obtain a simple formula for the critical point and we therefore need to use the steepest descent method. The derivative of our function is:\n",
    "\n",
    "$$\n",
    "\\frac{f(x)}{d x} = \\mathrm{e}^x (1 + x) + 1\n",
    "$$\n",
    "\n",
    "therefore, the update rule is:\n",
    "\n",
    "$$\n",
    "x_{t+1} = x_t - \\eta \\mathrm{e}^{x_t} (1 + x_t) + 1\n",
    "$$"
   ]
  },
  {
   "cell_type": "markdown",
   "metadata": {
    "slideshow": {
     "slide_type": "subslide"
    }
   },
   "source": [
    "### Exercises\n",
    "#### 4.5\n",
    "\n",
    "Write down the steepest descent update rule for the following functions:\n",
    "\n",
    "**a)** $f(x) = \\mathrm{e}^x (x^2 + 3 x) + x^3$\n",
    "\n",
    "**b)** $f(x) = x^2 \\mathrm{e}^x + 3 x$\n",
    "\n",
    "**c)** $f(x) = \\sin(x) + 3 x^2$"
   ]
  }
 ],
 "metadata": {
  "celltoolbar": "幻灯片",
  "kernelspec": {
   "display_name": "Python 3",
   "language": "python",
   "name": "python3"
  },
  "language_info": {
   "codemirror_mode": {
    "name": "ipython",
    "version": 3
   },
   "file_extension": ".py",
   "mimetype": "text/x-python",
   "name": "python",
   "nbconvert_exporter": "python",
   "pygments_lexer": "ipython3",
   "version": "3.8.5"
  },
  "toc": {
   "base_numbering": 1,
   "nav_menu": {},
   "number_sections": true,
   "sideBar": true,
   "skip_h1_title": false,
   "title_cell": "Table of Contents",
   "title_sidebar": "Contents",
   "toc_cell": false,
   "toc_position": {},
   "toc_section_display": true,
   "toc_window_display": true
  },
  "varInspector": {
   "cols": {
    "lenName": 16,
    "lenType": 16,
    "lenVar": 40
   },
   "kernels_config": {
    "python": {
     "delete_cmd_postfix": "",
     "delete_cmd_prefix": "del ",
     "library": "var_list.py",
     "varRefreshCmd": "print(var_dic_list())"
    },
    "r": {
     "delete_cmd_postfix": ") ",
     "delete_cmd_prefix": "rm(",
     "library": "var_list.r",
     "varRefreshCmd": "cat(var_dic_list()) "
    }
   },
   "types_to_exclude": [
    "module",
    "function",
    "builtin_function_or_method",
    "instance",
    "_Feature"
   ],
   "window_display": false
  }
 },
 "nbformat": 4,
 "nbformat_minor": 2
}
